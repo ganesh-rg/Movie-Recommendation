{
 "cells": [
  {
   "cell_type": "code",
   "execution_count": 1,
   "id": "3da46fbf",
   "metadata": {
    "_cell_guid": "b1076dfc-b9ad-4769-8c92-a6c4dae69d19",
    "_uuid": "8f2839f25d086af736a60e9eeb907d3b93b6e0e5",
    "execution": {
     "iopub.execute_input": "2023-05-13T12:14:01.908446Z",
     "iopub.status.busy": "2023-05-13T12:14:01.908012Z",
     "iopub.status.idle": "2023-05-13T12:14:01.927176Z",
     "shell.execute_reply": "2023-05-13T12:14:01.925994Z"
    },
    "papermill": {
     "duration": 0.035911,
     "end_time": "2023-05-13T12:14:01.931074",
     "exception": false,
     "start_time": "2023-05-13T12:14:01.895163",
     "status": "completed"
    },
    "tags": []
   },
   "outputs": [
    {
     "name": "stdout",
     "output_type": "stream",
     "text": [
      "/kaggle/input/tmdb-movie-metadata/tmdb_5000_movies.csv\n",
      "/kaggle/input/tmdb-movie-metadata/tmdb_5000_credits.csv\n"
     ]
    }
   ],
   "source": [
    "# This Python 3 environment comes with many helpful analytics libraries installed\n",
    "# It is defined by the kaggle/python Docker image: https://github.com/kaggle/docker-python\n",
    "# For example, here's several helpful packages to load\n",
    "\n",
    "import numpy as np # linear algebra\n",
    "import pandas as pd # data processing, CSV file I/O (e.g. pd.read_csv)\n",
    "\n",
    "# Input data files are available in the read-only \"../input/\" directory\n",
    "# For example, running this (by clicking run or pressing Shift+Enter) will list all files under the input directory\n",
    "\n",
    "import os\n",
    "for dirname, _, filenames in os.walk('/kaggle/input'):\n",
    "    for filename in filenames:\n",
    "        print(os.path.join(dirname, filename))\n",
    "\n",
    "# You can write up to 20GB to the current directory (/kaggle/working/) that gets preserved as output when you create a version using \"Save & Run All\" \n",
    "# You can also write temporary files to /kaggle/temp/, but they won't be saved outside of the current session"
   ]
  },
  {
   "cell_type": "code",
   "execution_count": 2,
   "id": "1e31f578",
   "metadata": {
    "execution": {
     "iopub.execute_input": "2023-05-13T12:14:01.953874Z",
     "iopub.status.busy": "2023-05-13T12:14:01.953033Z",
     "iopub.status.idle": "2023-05-13T12:14:01.957798Z",
     "shell.execute_reply": "2023-05-13T12:14:01.956897Z"
    },
    "papermill": {
     "duration": 0.018632,
     "end_time": "2023-05-13T12:14:01.960421",
     "exception": false,
     "start_time": "2023-05-13T12:14:01.941789",
     "status": "completed"
    },
    "tags": []
   },
   "outputs": [],
   "source": [
    "import numpy as np\n",
    "import pandas as pd"
   ]
  },
  {
   "cell_type": "code",
   "execution_count": 3,
   "id": "9aaaf791",
   "metadata": {
    "execution": {
     "iopub.execute_input": "2023-05-13T12:14:01.983567Z",
     "iopub.status.busy": "2023-05-13T12:14:01.982015Z",
     "iopub.status.idle": "2023-05-13T12:14:03.030859Z",
     "shell.execute_reply": "2023-05-13T12:14:03.029593Z"
    },
    "papermill": {
     "duration": 1.063728,
     "end_time": "2023-05-13T12:14:03.034190",
     "exception": false,
     "start_time": "2023-05-13T12:14:01.970462",
     "status": "completed"
    },
    "tags": []
   },
   "outputs": [],
   "source": [
    "movies = pd.read_csv(\"/kaggle/input/tmdb-movie-metadata/tmdb_5000_movies.csv\")\n",
    "credits = pd.read_csv(\"/kaggle/input/tmdb-movie-metadata/tmdb_5000_credits.csv\")"
   ]
  },
  {
   "cell_type": "code",
   "execution_count": 4,
   "id": "6a38c548",
   "metadata": {
    "execution": {
     "iopub.execute_input": "2023-05-13T12:14:03.058617Z",
     "iopub.status.busy": "2023-05-13T12:14:03.058206Z",
     "iopub.status.idle": "2023-05-13T12:14:03.109094Z",
     "shell.execute_reply": "2023-05-13T12:14:03.107463Z"
    },
    "papermill": {
     "duration": 0.067043,
     "end_time": "2023-05-13T12:14:03.112246",
     "exception": false,
     "start_time": "2023-05-13T12:14:03.045203",
     "status": "completed"
    },
    "tags": []
   },
   "outputs": [
    {
     "data": {
      "text/html": [
       "<div>\n",
       "<style scoped>\n",
       "    .dataframe tbody tr th:only-of-type {\n",
       "        vertical-align: middle;\n",
       "    }\n",
       "\n",
       "    .dataframe tbody tr th {\n",
       "        vertical-align: top;\n",
       "    }\n",
       "\n",
       "    .dataframe thead th {\n",
       "        text-align: right;\n",
       "    }\n",
       "</style>\n",
       "<table border=\"1\" class=\"dataframe\">\n",
       "  <thead>\n",
       "    <tr style=\"text-align: right;\">\n",
       "      <th></th>\n",
       "      <th>budget</th>\n",
       "      <th>genres</th>\n",
       "      <th>homepage</th>\n",
       "      <th>id</th>\n",
       "      <th>keywords</th>\n",
       "      <th>original_language</th>\n",
       "      <th>original_title</th>\n",
       "      <th>overview</th>\n",
       "      <th>popularity</th>\n",
       "      <th>production_companies</th>\n",
       "      <th>production_countries</th>\n",
       "      <th>release_date</th>\n",
       "      <th>revenue</th>\n",
       "      <th>runtime</th>\n",
       "      <th>spoken_languages</th>\n",
       "      <th>status</th>\n",
       "      <th>tagline</th>\n",
       "      <th>title</th>\n",
       "      <th>vote_average</th>\n",
       "      <th>vote_count</th>\n",
       "    </tr>\n",
       "  </thead>\n",
       "  <tbody>\n",
       "    <tr>\n",
       "      <th>0</th>\n",
       "      <td>237000000</td>\n",
       "      <td>[{\"id\": 28, \"name\": \"Action\"}, {\"id\": 12, \"nam...</td>\n",
       "      <td>http://www.avatarmovie.com/</td>\n",
       "      <td>19995</td>\n",
       "      <td>[{\"id\": 1463, \"name\": \"culture clash\"}, {\"id\":...</td>\n",
       "      <td>en</td>\n",
       "      <td>Avatar</td>\n",
       "      <td>In the 22nd century, a paraplegic Marine is di...</td>\n",
       "      <td>150.437577</td>\n",
       "      <td>[{\"name\": \"Ingenious Film Partners\", \"id\": 289...</td>\n",
       "      <td>[{\"iso_3166_1\": \"US\", \"name\": \"United States o...</td>\n",
       "      <td>2009-12-10</td>\n",
       "      <td>2787965087</td>\n",
       "      <td>162.0</td>\n",
       "      <td>[{\"iso_639_1\": \"en\", \"name\": \"English\"}, {\"iso...</td>\n",
       "      <td>Released</td>\n",
       "      <td>Enter the World of Pandora.</td>\n",
       "      <td>Avatar</td>\n",
       "      <td>7.2</td>\n",
       "      <td>11800</td>\n",
       "    </tr>\n",
       "    <tr>\n",
       "      <th>1</th>\n",
       "      <td>300000000</td>\n",
       "      <td>[{\"id\": 12, \"name\": \"Adventure\"}, {\"id\": 14, \"...</td>\n",
       "      <td>http://disney.go.com/disneypictures/pirates/</td>\n",
       "      <td>285</td>\n",
       "      <td>[{\"id\": 270, \"name\": \"ocean\"}, {\"id\": 726, \"na...</td>\n",
       "      <td>en</td>\n",
       "      <td>Pirates of the Caribbean: At World's End</td>\n",
       "      <td>Captain Barbossa, long believed to be dead, ha...</td>\n",
       "      <td>139.082615</td>\n",
       "      <td>[{\"name\": \"Walt Disney Pictures\", \"id\": 2}, {\"...</td>\n",
       "      <td>[{\"iso_3166_1\": \"US\", \"name\": \"United States o...</td>\n",
       "      <td>2007-05-19</td>\n",
       "      <td>961000000</td>\n",
       "      <td>169.0</td>\n",
       "      <td>[{\"iso_639_1\": \"en\", \"name\": \"English\"}]</td>\n",
       "      <td>Released</td>\n",
       "      <td>At the end of the world, the adventure begins.</td>\n",
       "      <td>Pirates of the Caribbean: At World's End</td>\n",
       "      <td>6.9</td>\n",
       "      <td>4500</td>\n",
       "    </tr>\n",
       "    <tr>\n",
       "      <th>2</th>\n",
       "      <td>245000000</td>\n",
       "      <td>[{\"id\": 28, \"name\": \"Action\"}, {\"id\": 12, \"nam...</td>\n",
       "      <td>http://www.sonypictures.com/movies/spectre/</td>\n",
       "      <td>206647</td>\n",
       "      <td>[{\"id\": 470, \"name\": \"spy\"}, {\"id\": 818, \"name...</td>\n",
       "      <td>en</td>\n",
       "      <td>Spectre</td>\n",
       "      <td>A cryptic message from Bond’s past sends him o...</td>\n",
       "      <td>107.376788</td>\n",
       "      <td>[{\"name\": \"Columbia Pictures\", \"id\": 5}, {\"nam...</td>\n",
       "      <td>[{\"iso_3166_1\": \"GB\", \"name\": \"United Kingdom\"...</td>\n",
       "      <td>2015-10-26</td>\n",
       "      <td>880674609</td>\n",
       "      <td>148.0</td>\n",
       "      <td>[{\"iso_639_1\": \"fr\", \"name\": \"Fran\\u00e7ais\"},...</td>\n",
       "      <td>Released</td>\n",
       "      <td>A Plan No One Escapes</td>\n",
       "      <td>Spectre</td>\n",
       "      <td>6.3</td>\n",
       "      <td>4466</td>\n",
       "    </tr>\n",
       "    <tr>\n",
       "      <th>3</th>\n",
       "      <td>250000000</td>\n",
       "      <td>[{\"id\": 28, \"name\": \"Action\"}, {\"id\": 80, \"nam...</td>\n",
       "      <td>http://www.thedarkknightrises.com/</td>\n",
       "      <td>49026</td>\n",
       "      <td>[{\"id\": 849, \"name\": \"dc comics\"}, {\"id\": 853,...</td>\n",
       "      <td>en</td>\n",
       "      <td>The Dark Knight Rises</td>\n",
       "      <td>Following the death of District Attorney Harve...</td>\n",
       "      <td>112.312950</td>\n",
       "      <td>[{\"name\": \"Legendary Pictures\", \"id\": 923}, {\"...</td>\n",
       "      <td>[{\"iso_3166_1\": \"US\", \"name\": \"United States o...</td>\n",
       "      <td>2012-07-16</td>\n",
       "      <td>1084939099</td>\n",
       "      <td>165.0</td>\n",
       "      <td>[{\"iso_639_1\": \"en\", \"name\": \"English\"}]</td>\n",
       "      <td>Released</td>\n",
       "      <td>The Legend Ends</td>\n",
       "      <td>The Dark Knight Rises</td>\n",
       "      <td>7.6</td>\n",
       "      <td>9106</td>\n",
       "    </tr>\n",
       "    <tr>\n",
       "      <th>4</th>\n",
       "      <td>260000000</td>\n",
       "      <td>[{\"id\": 28, \"name\": \"Action\"}, {\"id\": 12, \"nam...</td>\n",
       "      <td>http://movies.disney.com/john-carter</td>\n",
       "      <td>49529</td>\n",
       "      <td>[{\"id\": 818, \"name\": \"based on novel\"}, {\"id\":...</td>\n",
       "      <td>en</td>\n",
       "      <td>John Carter</td>\n",
       "      <td>John Carter is a war-weary, former military ca...</td>\n",
       "      <td>43.926995</td>\n",
       "      <td>[{\"name\": \"Walt Disney Pictures\", \"id\": 2}]</td>\n",
       "      <td>[{\"iso_3166_1\": \"US\", \"name\": \"United States o...</td>\n",
       "      <td>2012-03-07</td>\n",
       "      <td>284139100</td>\n",
       "      <td>132.0</td>\n",
       "      <td>[{\"iso_639_1\": \"en\", \"name\": \"English\"}]</td>\n",
       "      <td>Released</td>\n",
       "      <td>Lost in our world, found in another.</td>\n",
       "      <td>John Carter</td>\n",
       "      <td>6.1</td>\n",
       "      <td>2124</td>\n",
       "    </tr>\n",
       "  </tbody>\n",
       "</table>\n",
       "</div>"
      ],
      "text/plain": [
       "      budget                                             genres  \\\n",
       "0  237000000  [{\"id\": 28, \"name\": \"Action\"}, {\"id\": 12, \"nam...   \n",
       "1  300000000  [{\"id\": 12, \"name\": \"Adventure\"}, {\"id\": 14, \"...   \n",
       "2  245000000  [{\"id\": 28, \"name\": \"Action\"}, {\"id\": 12, \"nam...   \n",
       "3  250000000  [{\"id\": 28, \"name\": \"Action\"}, {\"id\": 80, \"nam...   \n",
       "4  260000000  [{\"id\": 28, \"name\": \"Action\"}, {\"id\": 12, \"nam...   \n",
       "\n",
       "                                       homepage      id  \\\n",
       "0                   http://www.avatarmovie.com/   19995   \n",
       "1  http://disney.go.com/disneypictures/pirates/     285   \n",
       "2   http://www.sonypictures.com/movies/spectre/  206647   \n",
       "3            http://www.thedarkknightrises.com/   49026   \n",
       "4          http://movies.disney.com/john-carter   49529   \n",
       "\n",
       "                                            keywords original_language  \\\n",
       "0  [{\"id\": 1463, \"name\": \"culture clash\"}, {\"id\":...                en   \n",
       "1  [{\"id\": 270, \"name\": \"ocean\"}, {\"id\": 726, \"na...                en   \n",
       "2  [{\"id\": 470, \"name\": \"spy\"}, {\"id\": 818, \"name...                en   \n",
       "3  [{\"id\": 849, \"name\": \"dc comics\"}, {\"id\": 853,...                en   \n",
       "4  [{\"id\": 818, \"name\": \"based on novel\"}, {\"id\":...                en   \n",
       "\n",
       "                             original_title  \\\n",
       "0                                    Avatar   \n",
       "1  Pirates of the Caribbean: At World's End   \n",
       "2                                   Spectre   \n",
       "3                     The Dark Knight Rises   \n",
       "4                               John Carter   \n",
       "\n",
       "                                            overview  popularity  \\\n",
       "0  In the 22nd century, a paraplegic Marine is di...  150.437577   \n",
       "1  Captain Barbossa, long believed to be dead, ha...  139.082615   \n",
       "2  A cryptic message from Bond’s past sends him o...  107.376788   \n",
       "3  Following the death of District Attorney Harve...  112.312950   \n",
       "4  John Carter is a war-weary, former military ca...   43.926995   \n",
       "\n",
       "                                production_companies  \\\n",
       "0  [{\"name\": \"Ingenious Film Partners\", \"id\": 289...   \n",
       "1  [{\"name\": \"Walt Disney Pictures\", \"id\": 2}, {\"...   \n",
       "2  [{\"name\": \"Columbia Pictures\", \"id\": 5}, {\"nam...   \n",
       "3  [{\"name\": \"Legendary Pictures\", \"id\": 923}, {\"...   \n",
       "4        [{\"name\": \"Walt Disney Pictures\", \"id\": 2}]   \n",
       "\n",
       "                                production_countries release_date     revenue  \\\n",
       "0  [{\"iso_3166_1\": \"US\", \"name\": \"United States o...   2009-12-10  2787965087   \n",
       "1  [{\"iso_3166_1\": \"US\", \"name\": \"United States o...   2007-05-19   961000000   \n",
       "2  [{\"iso_3166_1\": \"GB\", \"name\": \"United Kingdom\"...   2015-10-26   880674609   \n",
       "3  [{\"iso_3166_1\": \"US\", \"name\": \"United States o...   2012-07-16  1084939099   \n",
       "4  [{\"iso_3166_1\": \"US\", \"name\": \"United States o...   2012-03-07   284139100   \n",
       "\n",
       "   runtime                                   spoken_languages    status  \\\n",
       "0    162.0  [{\"iso_639_1\": \"en\", \"name\": \"English\"}, {\"iso...  Released   \n",
       "1    169.0           [{\"iso_639_1\": \"en\", \"name\": \"English\"}]  Released   \n",
       "2    148.0  [{\"iso_639_1\": \"fr\", \"name\": \"Fran\\u00e7ais\"},...  Released   \n",
       "3    165.0           [{\"iso_639_1\": \"en\", \"name\": \"English\"}]  Released   \n",
       "4    132.0           [{\"iso_639_1\": \"en\", \"name\": \"English\"}]  Released   \n",
       "\n",
       "                                          tagline  \\\n",
       "0                     Enter the World of Pandora.   \n",
       "1  At the end of the world, the adventure begins.   \n",
       "2                           A Plan No One Escapes   \n",
       "3                                 The Legend Ends   \n",
       "4            Lost in our world, found in another.   \n",
       "\n",
       "                                      title  vote_average  vote_count  \n",
       "0                                    Avatar           7.2       11800  \n",
       "1  Pirates of the Caribbean: At World's End           6.9        4500  \n",
       "2                                   Spectre           6.3        4466  \n",
       "3                     The Dark Knight Rises           7.6        9106  \n",
       "4                               John Carter           6.1        2124  "
      ]
     },
     "execution_count": 4,
     "metadata": {},
     "output_type": "execute_result"
    }
   ],
   "source": [
    "movies.head()"
   ]
  },
  {
   "cell_type": "code",
   "execution_count": 5,
   "id": "7a41c3f4",
   "metadata": {
    "execution": {
     "iopub.execute_input": "2023-05-13T12:14:03.134856Z",
     "iopub.status.busy": "2023-05-13T12:14:03.134360Z",
     "iopub.status.idle": "2023-05-13T12:14:03.259397Z",
     "shell.execute_reply": "2023-05-13T12:14:03.257512Z"
    },
    "papermill": {
     "duration": 0.139858,
     "end_time": "2023-05-13T12:14:03.262421",
     "exception": false,
     "start_time": "2023-05-13T12:14:03.122563",
     "status": "completed"
    },
    "tags": []
   },
   "outputs": [
    {
     "data": {
      "text/html": [
       "<div>\n",
       "<style scoped>\n",
       "    .dataframe tbody tr th:only-of-type {\n",
       "        vertical-align: middle;\n",
       "    }\n",
       "\n",
       "    .dataframe tbody tr th {\n",
       "        vertical-align: top;\n",
       "    }\n",
       "\n",
       "    .dataframe thead th {\n",
       "        text-align: right;\n",
       "    }\n",
       "</style>\n",
       "<table border=\"1\" class=\"dataframe\">\n",
       "  <thead>\n",
       "    <tr style=\"text-align: right;\">\n",
       "      <th></th>\n",
       "      <th>budget</th>\n",
       "      <th>genres</th>\n",
       "      <th>homepage</th>\n",
       "      <th>id</th>\n",
       "      <th>keywords</th>\n",
       "      <th>original_language</th>\n",
       "      <th>original_title</th>\n",
       "      <th>overview</th>\n",
       "      <th>popularity</th>\n",
       "      <th>production_companies</th>\n",
       "      <th>production_countries</th>\n",
       "      <th>release_date</th>\n",
       "      <th>revenue</th>\n",
       "      <th>runtime</th>\n",
       "      <th>spoken_languages</th>\n",
       "      <th>status</th>\n",
       "      <th>tagline</th>\n",
       "      <th>title</th>\n",
       "      <th>vote_average</th>\n",
       "      <th>vote_count</th>\n",
       "    </tr>\n",
       "  </thead>\n",
       "  <tbody>\n",
       "    <tr>\n",
       "      <th>count</th>\n",
       "      <td>4.803000e+03</td>\n",
       "      <td>4803</td>\n",
       "      <td>1712</td>\n",
       "      <td>4803.000000</td>\n",
       "      <td>4803</td>\n",
       "      <td>4803</td>\n",
       "      <td>4803</td>\n",
       "      <td>4800</td>\n",
       "      <td>4803.000000</td>\n",
       "      <td>4803</td>\n",
       "      <td>4803</td>\n",
       "      <td>4802</td>\n",
       "      <td>4.803000e+03</td>\n",
       "      <td>4801.000000</td>\n",
       "      <td>4803</td>\n",
       "      <td>4803</td>\n",
       "      <td>3959</td>\n",
       "      <td>4803</td>\n",
       "      <td>4803.000000</td>\n",
       "      <td>4803.000000</td>\n",
       "    </tr>\n",
       "    <tr>\n",
       "      <th>unique</th>\n",
       "      <td>NaN</td>\n",
       "      <td>1175</td>\n",
       "      <td>1691</td>\n",
       "      <td>NaN</td>\n",
       "      <td>4222</td>\n",
       "      <td>37</td>\n",
       "      <td>4801</td>\n",
       "      <td>4800</td>\n",
       "      <td>NaN</td>\n",
       "      <td>3697</td>\n",
       "      <td>469</td>\n",
       "      <td>3280</td>\n",
       "      <td>NaN</td>\n",
       "      <td>NaN</td>\n",
       "      <td>544</td>\n",
       "      <td>3</td>\n",
       "      <td>3944</td>\n",
       "      <td>4800</td>\n",
       "      <td>NaN</td>\n",
       "      <td>NaN</td>\n",
       "    </tr>\n",
       "    <tr>\n",
       "      <th>top</th>\n",
       "      <td>NaN</td>\n",
       "      <td>[{\"id\": 18, \"name\": \"Drama\"}]</td>\n",
       "      <td>http://www.missionimpossible.com/</td>\n",
       "      <td>NaN</td>\n",
       "      <td>[]</td>\n",
       "      <td>en</td>\n",
       "      <td>Out of the Blue</td>\n",
       "      <td>In the 22nd century, a paraplegic Marine is di...</td>\n",
       "      <td>NaN</td>\n",
       "      <td>[]</td>\n",
       "      <td>[{\"iso_3166_1\": \"US\", \"name\": \"United States o...</td>\n",
       "      <td>2006-01-01</td>\n",
       "      <td>NaN</td>\n",
       "      <td>NaN</td>\n",
       "      <td>[{\"iso_639_1\": \"en\", \"name\": \"English\"}]</td>\n",
       "      <td>Released</td>\n",
       "      <td>Based on a true story.</td>\n",
       "      <td>The Host</td>\n",
       "      <td>NaN</td>\n",
       "      <td>NaN</td>\n",
       "    </tr>\n",
       "    <tr>\n",
       "      <th>freq</th>\n",
       "      <td>NaN</td>\n",
       "      <td>370</td>\n",
       "      <td>4</td>\n",
       "      <td>NaN</td>\n",
       "      <td>412</td>\n",
       "      <td>4505</td>\n",
       "      <td>2</td>\n",
       "      <td>1</td>\n",
       "      <td>NaN</td>\n",
       "      <td>351</td>\n",
       "      <td>2977</td>\n",
       "      <td>10</td>\n",
       "      <td>NaN</td>\n",
       "      <td>NaN</td>\n",
       "      <td>3171</td>\n",
       "      <td>4795</td>\n",
       "      <td>3</td>\n",
       "      <td>2</td>\n",
       "      <td>NaN</td>\n",
       "      <td>NaN</td>\n",
       "    </tr>\n",
       "    <tr>\n",
       "      <th>mean</th>\n",
       "      <td>2.904504e+07</td>\n",
       "      <td>NaN</td>\n",
       "      <td>NaN</td>\n",
       "      <td>57165.484281</td>\n",
       "      <td>NaN</td>\n",
       "      <td>NaN</td>\n",
       "      <td>NaN</td>\n",
       "      <td>NaN</td>\n",
       "      <td>21.492301</td>\n",
       "      <td>NaN</td>\n",
       "      <td>NaN</td>\n",
       "      <td>NaN</td>\n",
       "      <td>8.226064e+07</td>\n",
       "      <td>106.875859</td>\n",
       "      <td>NaN</td>\n",
       "      <td>NaN</td>\n",
       "      <td>NaN</td>\n",
       "      <td>NaN</td>\n",
       "      <td>6.092172</td>\n",
       "      <td>690.217989</td>\n",
       "    </tr>\n",
       "    <tr>\n",
       "      <th>std</th>\n",
       "      <td>4.072239e+07</td>\n",
       "      <td>NaN</td>\n",
       "      <td>NaN</td>\n",
       "      <td>88694.614033</td>\n",
       "      <td>NaN</td>\n",
       "      <td>NaN</td>\n",
       "      <td>NaN</td>\n",
       "      <td>NaN</td>\n",
       "      <td>31.816650</td>\n",
       "      <td>NaN</td>\n",
       "      <td>NaN</td>\n",
       "      <td>NaN</td>\n",
       "      <td>1.628571e+08</td>\n",
       "      <td>22.611935</td>\n",
       "      <td>NaN</td>\n",
       "      <td>NaN</td>\n",
       "      <td>NaN</td>\n",
       "      <td>NaN</td>\n",
       "      <td>1.194612</td>\n",
       "      <td>1234.585891</td>\n",
       "    </tr>\n",
       "    <tr>\n",
       "      <th>min</th>\n",
       "      <td>0.000000e+00</td>\n",
       "      <td>NaN</td>\n",
       "      <td>NaN</td>\n",
       "      <td>5.000000</td>\n",
       "      <td>NaN</td>\n",
       "      <td>NaN</td>\n",
       "      <td>NaN</td>\n",
       "      <td>NaN</td>\n",
       "      <td>0.000000</td>\n",
       "      <td>NaN</td>\n",
       "      <td>NaN</td>\n",
       "      <td>NaN</td>\n",
       "      <td>0.000000e+00</td>\n",
       "      <td>0.000000</td>\n",
       "      <td>NaN</td>\n",
       "      <td>NaN</td>\n",
       "      <td>NaN</td>\n",
       "      <td>NaN</td>\n",
       "      <td>0.000000</td>\n",
       "      <td>0.000000</td>\n",
       "    </tr>\n",
       "    <tr>\n",
       "      <th>25%</th>\n",
       "      <td>7.900000e+05</td>\n",
       "      <td>NaN</td>\n",
       "      <td>NaN</td>\n",
       "      <td>9014.500000</td>\n",
       "      <td>NaN</td>\n",
       "      <td>NaN</td>\n",
       "      <td>NaN</td>\n",
       "      <td>NaN</td>\n",
       "      <td>4.668070</td>\n",
       "      <td>NaN</td>\n",
       "      <td>NaN</td>\n",
       "      <td>NaN</td>\n",
       "      <td>0.000000e+00</td>\n",
       "      <td>94.000000</td>\n",
       "      <td>NaN</td>\n",
       "      <td>NaN</td>\n",
       "      <td>NaN</td>\n",
       "      <td>NaN</td>\n",
       "      <td>5.600000</td>\n",
       "      <td>54.000000</td>\n",
       "    </tr>\n",
       "    <tr>\n",
       "      <th>50%</th>\n",
       "      <td>1.500000e+07</td>\n",
       "      <td>NaN</td>\n",
       "      <td>NaN</td>\n",
       "      <td>14629.000000</td>\n",
       "      <td>NaN</td>\n",
       "      <td>NaN</td>\n",
       "      <td>NaN</td>\n",
       "      <td>NaN</td>\n",
       "      <td>12.921594</td>\n",
       "      <td>NaN</td>\n",
       "      <td>NaN</td>\n",
       "      <td>NaN</td>\n",
       "      <td>1.917000e+07</td>\n",
       "      <td>103.000000</td>\n",
       "      <td>NaN</td>\n",
       "      <td>NaN</td>\n",
       "      <td>NaN</td>\n",
       "      <td>NaN</td>\n",
       "      <td>6.200000</td>\n",
       "      <td>235.000000</td>\n",
       "    </tr>\n",
       "    <tr>\n",
       "      <th>75%</th>\n",
       "      <td>4.000000e+07</td>\n",
       "      <td>NaN</td>\n",
       "      <td>NaN</td>\n",
       "      <td>58610.500000</td>\n",
       "      <td>NaN</td>\n",
       "      <td>NaN</td>\n",
       "      <td>NaN</td>\n",
       "      <td>NaN</td>\n",
       "      <td>28.313505</td>\n",
       "      <td>NaN</td>\n",
       "      <td>NaN</td>\n",
       "      <td>NaN</td>\n",
       "      <td>9.291719e+07</td>\n",
       "      <td>118.000000</td>\n",
       "      <td>NaN</td>\n",
       "      <td>NaN</td>\n",
       "      <td>NaN</td>\n",
       "      <td>NaN</td>\n",
       "      <td>6.800000</td>\n",
       "      <td>737.000000</td>\n",
       "    </tr>\n",
       "    <tr>\n",
       "      <th>max</th>\n",
       "      <td>3.800000e+08</td>\n",
       "      <td>NaN</td>\n",
       "      <td>NaN</td>\n",
       "      <td>459488.000000</td>\n",
       "      <td>NaN</td>\n",
       "      <td>NaN</td>\n",
       "      <td>NaN</td>\n",
       "      <td>NaN</td>\n",
       "      <td>875.581305</td>\n",
       "      <td>NaN</td>\n",
       "      <td>NaN</td>\n",
       "      <td>NaN</td>\n",
       "      <td>2.787965e+09</td>\n",
       "      <td>338.000000</td>\n",
       "      <td>NaN</td>\n",
       "      <td>NaN</td>\n",
       "      <td>NaN</td>\n",
       "      <td>NaN</td>\n",
       "      <td>10.000000</td>\n",
       "      <td>13752.000000</td>\n",
       "    </tr>\n",
       "  </tbody>\n",
       "</table>\n",
       "</div>"
      ],
      "text/plain": [
       "              budget                         genres  \\\n",
       "count   4.803000e+03                           4803   \n",
       "unique           NaN                           1175   \n",
       "top              NaN  [{\"id\": 18, \"name\": \"Drama\"}]   \n",
       "freq             NaN                            370   \n",
       "mean    2.904504e+07                            NaN   \n",
       "std     4.072239e+07                            NaN   \n",
       "min     0.000000e+00                            NaN   \n",
       "25%     7.900000e+05                            NaN   \n",
       "50%     1.500000e+07                            NaN   \n",
       "75%     4.000000e+07                            NaN   \n",
       "max     3.800000e+08                            NaN   \n",
       "\n",
       "                                 homepage             id keywords  \\\n",
       "count                                1712    4803.000000     4803   \n",
       "unique                               1691            NaN     4222   \n",
       "top     http://www.missionimpossible.com/            NaN       []   \n",
       "freq                                    4            NaN      412   \n",
       "mean                                  NaN   57165.484281      NaN   \n",
       "std                                   NaN   88694.614033      NaN   \n",
       "min                                   NaN       5.000000      NaN   \n",
       "25%                                   NaN    9014.500000      NaN   \n",
       "50%                                   NaN   14629.000000      NaN   \n",
       "75%                                   NaN   58610.500000      NaN   \n",
       "max                                   NaN  459488.000000      NaN   \n",
       "\n",
       "       original_language   original_title  \\\n",
       "count               4803             4803   \n",
       "unique                37             4801   \n",
       "top                   en  Out of the Blue   \n",
       "freq                4505                2   \n",
       "mean                 NaN              NaN   \n",
       "std                  NaN              NaN   \n",
       "min                  NaN              NaN   \n",
       "25%                  NaN              NaN   \n",
       "50%                  NaN              NaN   \n",
       "75%                  NaN              NaN   \n",
       "max                  NaN              NaN   \n",
       "\n",
       "                                                 overview   popularity  \\\n",
       "count                                                4800  4803.000000   \n",
       "unique                                               4800          NaN   \n",
       "top     In the 22nd century, a paraplegic Marine is di...          NaN   \n",
       "freq                                                    1          NaN   \n",
       "mean                                                  NaN    21.492301   \n",
       "std                                                   NaN    31.816650   \n",
       "min                                                   NaN     0.000000   \n",
       "25%                                                   NaN     4.668070   \n",
       "50%                                                   NaN    12.921594   \n",
       "75%                                                   NaN    28.313505   \n",
       "max                                                   NaN   875.581305   \n",
       "\n",
       "       production_companies  \\\n",
       "count                  4803   \n",
       "unique                 3697   \n",
       "top                      []   \n",
       "freq                    351   \n",
       "mean                    NaN   \n",
       "std                     NaN   \n",
       "min                     NaN   \n",
       "25%                     NaN   \n",
       "50%                     NaN   \n",
       "75%                     NaN   \n",
       "max                     NaN   \n",
       "\n",
       "                                     production_countries release_date  \\\n",
       "count                                                4803         4802   \n",
       "unique                                                469         3280   \n",
       "top     [{\"iso_3166_1\": \"US\", \"name\": \"United States o...   2006-01-01   \n",
       "freq                                                 2977           10   \n",
       "mean                                                  NaN          NaN   \n",
       "std                                                   NaN          NaN   \n",
       "min                                                   NaN          NaN   \n",
       "25%                                                   NaN          NaN   \n",
       "50%                                                   NaN          NaN   \n",
       "75%                                                   NaN          NaN   \n",
       "max                                                   NaN          NaN   \n",
       "\n",
       "             revenue      runtime                          spoken_languages  \\\n",
       "count   4.803000e+03  4801.000000                                      4803   \n",
       "unique           NaN          NaN                                       544   \n",
       "top              NaN          NaN  [{\"iso_639_1\": \"en\", \"name\": \"English\"}]   \n",
       "freq             NaN          NaN                                      3171   \n",
       "mean    8.226064e+07   106.875859                                       NaN   \n",
       "std     1.628571e+08    22.611935                                       NaN   \n",
       "min     0.000000e+00     0.000000                                       NaN   \n",
       "25%     0.000000e+00    94.000000                                       NaN   \n",
       "50%     1.917000e+07   103.000000                                       NaN   \n",
       "75%     9.291719e+07   118.000000                                       NaN   \n",
       "max     2.787965e+09   338.000000                                       NaN   \n",
       "\n",
       "          status                 tagline     title  vote_average    vote_count  \n",
       "count       4803                    3959      4803   4803.000000   4803.000000  \n",
       "unique         3                    3944      4800           NaN           NaN  \n",
       "top     Released  Based on a true story.  The Host           NaN           NaN  \n",
       "freq        4795                       3         2           NaN           NaN  \n",
       "mean         NaN                     NaN       NaN      6.092172    690.217989  \n",
       "std          NaN                     NaN       NaN      1.194612   1234.585891  \n",
       "min          NaN                     NaN       NaN      0.000000      0.000000  \n",
       "25%          NaN                     NaN       NaN      5.600000     54.000000  \n",
       "50%          NaN                     NaN       NaN      6.200000    235.000000  \n",
       "75%          NaN                     NaN       NaN      6.800000    737.000000  \n",
       "max          NaN                     NaN       NaN     10.000000  13752.000000  "
      ]
     },
     "execution_count": 5,
     "metadata": {},
     "output_type": "execute_result"
    }
   ],
   "source": [
    "movies.describe(include = \"all\")"
   ]
  },
  {
   "cell_type": "code",
   "execution_count": 6,
   "id": "7c13b8f6",
   "metadata": {
    "execution": {
     "iopub.execute_input": "2023-05-13T12:14:03.287183Z",
     "iopub.status.busy": "2023-05-13T12:14:03.286794Z",
     "iopub.status.idle": "2023-05-13T12:14:03.301417Z",
     "shell.execute_reply": "2023-05-13T12:14:03.300207Z"
    },
    "papermill": {
     "duration": 0.030292,
     "end_time": "2023-05-13T12:14:03.303895",
     "exception": false,
     "start_time": "2023-05-13T12:14:03.273603",
     "status": "completed"
    },
    "tags": []
   },
   "outputs": [
    {
     "data": {
      "text/html": [
       "<div>\n",
       "<style scoped>\n",
       "    .dataframe tbody tr th:only-of-type {\n",
       "        vertical-align: middle;\n",
       "    }\n",
       "\n",
       "    .dataframe tbody tr th {\n",
       "        vertical-align: top;\n",
       "    }\n",
       "\n",
       "    .dataframe thead th {\n",
       "        text-align: right;\n",
       "    }\n",
       "</style>\n",
       "<table border=\"1\" class=\"dataframe\">\n",
       "  <thead>\n",
       "    <tr style=\"text-align: right;\">\n",
       "      <th></th>\n",
       "      <th>movie_id</th>\n",
       "      <th>title</th>\n",
       "      <th>cast</th>\n",
       "      <th>crew</th>\n",
       "    </tr>\n",
       "  </thead>\n",
       "  <tbody>\n",
       "    <tr>\n",
       "      <th>0</th>\n",
       "      <td>19995</td>\n",
       "      <td>Avatar</td>\n",
       "      <td>[{\"cast_id\": 242, \"character\": \"Jake Sully\", \"...</td>\n",
       "      <td>[{\"credit_id\": \"52fe48009251416c750aca23\", \"de...</td>\n",
       "    </tr>\n",
       "    <tr>\n",
       "      <th>1</th>\n",
       "      <td>285</td>\n",
       "      <td>Pirates of the Caribbean: At World's End</td>\n",
       "      <td>[{\"cast_id\": 4, \"character\": \"Captain Jack Spa...</td>\n",
       "      <td>[{\"credit_id\": \"52fe4232c3a36847f800b579\", \"de...</td>\n",
       "    </tr>\n",
       "    <tr>\n",
       "      <th>2</th>\n",
       "      <td>206647</td>\n",
       "      <td>Spectre</td>\n",
       "      <td>[{\"cast_id\": 1, \"character\": \"James Bond\", \"cr...</td>\n",
       "      <td>[{\"credit_id\": \"54805967c3a36829b5002c41\", \"de...</td>\n",
       "    </tr>\n",
       "    <tr>\n",
       "      <th>3</th>\n",
       "      <td>49026</td>\n",
       "      <td>The Dark Knight Rises</td>\n",
       "      <td>[{\"cast_id\": 2, \"character\": \"Bruce Wayne / Ba...</td>\n",
       "      <td>[{\"credit_id\": \"52fe4781c3a36847f81398c3\", \"de...</td>\n",
       "    </tr>\n",
       "    <tr>\n",
       "      <th>4</th>\n",
       "      <td>49529</td>\n",
       "      <td>John Carter</td>\n",
       "      <td>[{\"cast_id\": 5, \"character\": \"John Carter\", \"c...</td>\n",
       "      <td>[{\"credit_id\": \"52fe479ac3a36847f813eaa3\", \"de...</td>\n",
       "    </tr>\n",
       "  </tbody>\n",
       "</table>\n",
       "</div>"
      ],
      "text/plain": [
       "   movie_id                                     title  \\\n",
       "0     19995                                    Avatar   \n",
       "1       285  Pirates of the Caribbean: At World's End   \n",
       "2    206647                                   Spectre   \n",
       "3     49026                     The Dark Knight Rises   \n",
       "4     49529                               John Carter   \n",
       "\n",
       "                                                cast  \\\n",
       "0  [{\"cast_id\": 242, \"character\": \"Jake Sully\", \"...   \n",
       "1  [{\"cast_id\": 4, \"character\": \"Captain Jack Spa...   \n",
       "2  [{\"cast_id\": 1, \"character\": \"James Bond\", \"cr...   \n",
       "3  [{\"cast_id\": 2, \"character\": \"Bruce Wayne / Ba...   \n",
       "4  [{\"cast_id\": 5, \"character\": \"John Carter\", \"c...   \n",
       "\n",
       "                                                crew  \n",
       "0  [{\"credit_id\": \"52fe48009251416c750aca23\", \"de...  \n",
       "1  [{\"credit_id\": \"52fe4232c3a36847f800b579\", \"de...  \n",
       "2  [{\"credit_id\": \"54805967c3a36829b5002c41\", \"de...  \n",
       "3  [{\"credit_id\": \"52fe4781c3a36847f81398c3\", \"de...  \n",
       "4  [{\"credit_id\": \"52fe479ac3a36847f813eaa3\", \"de...  "
      ]
     },
     "execution_count": 6,
     "metadata": {},
     "output_type": "execute_result"
    }
   ],
   "source": [
    "credits.head()"
   ]
  },
  {
   "cell_type": "markdown",
   "id": "4444a6e5",
   "metadata": {
    "papermill": {
     "duration": 0.01194,
     "end_time": "2023-05-13T12:14:03.327150",
     "exception": false,
     "start_time": "2023-05-13T12:14:03.315210",
     "status": "completed"
    },
    "tags": []
   },
   "source": [
    "## Merging Dataframes"
   ]
  },
  {
   "cell_type": "code",
   "execution_count": 7,
   "id": "6c21615c",
   "metadata": {
    "execution": {
     "iopub.execute_input": "2023-05-13T12:14:03.352581Z",
     "iopub.status.busy": "2023-05-13T12:14:03.351739Z",
     "iopub.status.idle": "2023-05-13T12:14:03.382967Z",
     "shell.execute_reply": "2023-05-13T12:14:03.381406Z"
    },
    "papermill": {
     "duration": 0.047906,
     "end_time": "2023-05-13T12:14:03.386635",
     "exception": false,
     "start_time": "2023-05-13T12:14:03.338729",
     "status": "completed"
    },
    "tags": []
   },
   "outputs": [],
   "source": [
    "movies = movies.merge(credits, on=\"title\")"
   ]
  },
  {
   "cell_type": "markdown",
   "id": "a0b67432",
   "metadata": {
    "papermill": {
     "duration": 0.010963,
     "end_time": "2023-05-13T12:14:03.409857",
     "exception": false,
     "start_time": "2023-05-13T12:14:03.398894",
     "status": "completed"
    },
    "tags": []
   },
   "source": [
    "## Removing unwanted columns"
   ]
  },
  {
   "cell_type": "code",
   "execution_count": 8,
   "id": "3325086b",
   "metadata": {
    "execution": {
     "iopub.execute_input": "2023-05-13T12:14:03.435046Z",
     "iopub.status.busy": "2023-05-13T12:14:03.434585Z",
     "iopub.status.idle": "2023-05-13T12:14:03.471207Z",
     "shell.execute_reply": "2023-05-13T12:14:03.469461Z"
    },
    "papermill": {
     "duration": 0.053356,
     "end_time": "2023-05-13T12:14:03.474751",
     "exception": false,
     "start_time": "2023-05-13T12:14:03.421395",
     "status": "completed"
    },
    "tags": []
   },
   "outputs": [
    {
     "name": "stdout",
     "output_type": "stream",
     "text": [
      "<class 'pandas.core.frame.DataFrame'>\n",
      "Int64Index: 4809 entries, 0 to 4808\n",
      "Data columns (total 23 columns):\n",
      " #   Column                Non-Null Count  Dtype  \n",
      "---  ------                --------------  -----  \n",
      " 0   budget                4809 non-null   int64  \n",
      " 1   genres                4809 non-null   object \n",
      " 2   homepage              1713 non-null   object \n",
      " 3   id                    4809 non-null   int64  \n",
      " 4   keywords              4809 non-null   object \n",
      " 5   original_language     4809 non-null   object \n",
      " 6   original_title        4809 non-null   object \n",
      " 7   overview              4806 non-null   object \n",
      " 8   popularity            4809 non-null   float64\n",
      " 9   production_companies  4809 non-null   object \n",
      " 10  production_countries  4809 non-null   object \n",
      " 11  release_date          4808 non-null   object \n",
      " 12  revenue               4809 non-null   int64  \n",
      " 13  runtime               4807 non-null   float64\n",
      " 14  spoken_languages      4809 non-null   object \n",
      " 15  status                4809 non-null   object \n",
      " 16  tagline               3965 non-null   object \n",
      " 17  title                 4809 non-null   object \n",
      " 18  vote_average          4809 non-null   float64\n",
      " 19  vote_count            4809 non-null   int64  \n",
      " 20  movie_id              4809 non-null   int64  \n",
      " 21  cast                  4809 non-null   object \n",
      " 22  crew                  4809 non-null   object \n",
      "dtypes: float64(3), int64(5), object(15)\n",
      "memory usage: 901.7+ KB\n"
     ]
    }
   ],
   "source": [
    "movies.info()"
   ]
  },
  {
   "cell_type": "code",
   "execution_count": 9,
   "id": "f65f8ab6",
   "metadata": {
    "execution": {
     "iopub.execute_input": "2023-05-13T12:14:03.499137Z",
     "iopub.status.busy": "2023-05-13T12:14:03.498692Z",
     "iopub.status.idle": "2023-05-13T12:14:03.514312Z",
     "shell.execute_reply": "2023-05-13T12:14:03.512783Z"
    },
    "papermill": {
     "duration": 0.031253,
     "end_time": "2023-05-13T12:14:03.517251",
     "exception": false,
     "start_time": "2023-05-13T12:14:03.485998",
     "status": "completed"
    },
    "tags": []
   },
   "outputs": [],
   "source": [
    "movies = movies[[\"id\", \"title\",\"genres\", \"keywords\", \"overview\", \"cast\", \"crew\"]]"
   ]
  },
  {
   "cell_type": "code",
   "execution_count": 10,
   "id": "fbab159d",
   "metadata": {
    "execution": {
     "iopub.execute_input": "2023-05-13T12:14:03.541732Z",
     "iopub.status.busy": "2023-05-13T12:14:03.541238Z",
     "iopub.status.idle": "2023-05-13T12:14:03.558777Z",
     "shell.execute_reply": "2023-05-13T12:14:03.557271Z"
    },
    "papermill": {
     "duration": 0.033002,
     "end_time": "2023-05-13T12:14:03.561480",
     "exception": false,
     "start_time": "2023-05-13T12:14:03.528478",
     "status": "completed"
    },
    "tags": []
   },
   "outputs": [
    {
     "data": {
      "text/html": [
       "<div>\n",
       "<style scoped>\n",
       "    .dataframe tbody tr th:only-of-type {\n",
       "        vertical-align: middle;\n",
       "    }\n",
       "\n",
       "    .dataframe tbody tr th {\n",
       "        vertical-align: top;\n",
       "    }\n",
       "\n",
       "    .dataframe thead th {\n",
       "        text-align: right;\n",
       "    }\n",
       "</style>\n",
       "<table border=\"1\" class=\"dataframe\">\n",
       "  <thead>\n",
       "    <tr style=\"text-align: right;\">\n",
       "      <th></th>\n",
       "      <th>id</th>\n",
       "      <th>title</th>\n",
       "      <th>genres</th>\n",
       "      <th>keywords</th>\n",
       "      <th>overview</th>\n",
       "      <th>cast</th>\n",
       "      <th>crew</th>\n",
       "    </tr>\n",
       "  </thead>\n",
       "  <tbody>\n",
       "    <tr>\n",
       "      <th>0</th>\n",
       "      <td>19995</td>\n",
       "      <td>Avatar</td>\n",
       "      <td>[{\"id\": 28, \"name\": \"Action\"}, {\"id\": 12, \"nam...</td>\n",
       "      <td>[{\"id\": 1463, \"name\": \"culture clash\"}, {\"id\":...</td>\n",
       "      <td>In the 22nd century, a paraplegic Marine is di...</td>\n",
       "      <td>[{\"cast_id\": 242, \"character\": \"Jake Sully\", \"...</td>\n",
       "      <td>[{\"credit_id\": \"52fe48009251416c750aca23\", \"de...</td>\n",
       "    </tr>\n",
       "    <tr>\n",
       "      <th>1</th>\n",
       "      <td>285</td>\n",
       "      <td>Pirates of the Caribbean: At World's End</td>\n",
       "      <td>[{\"id\": 12, \"name\": \"Adventure\"}, {\"id\": 14, \"...</td>\n",
       "      <td>[{\"id\": 270, \"name\": \"ocean\"}, {\"id\": 726, \"na...</td>\n",
       "      <td>Captain Barbossa, long believed to be dead, ha...</td>\n",
       "      <td>[{\"cast_id\": 4, \"character\": \"Captain Jack Spa...</td>\n",
       "      <td>[{\"credit_id\": \"52fe4232c3a36847f800b579\", \"de...</td>\n",
       "    </tr>\n",
       "    <tr>\n",
       "      <th>2</th>\n",
       "      <td>206647</td>\n",
       "      <td>Spectre</td>\n",
       "      <td>[{\"id\": 28, \"name\": \"Action\"}, {\"id\": 12, \"nam...</td>\n",
       "      <td>[{\"id\": 470, \"name\": \"spy\"}, {\"id\": 818, \"name...</td>\n",
       "      <td>A cryptic message from Bond’s past sends him o...</td>\n",
       "      <td>[{\"cast_id\": 1, \"character\": \"James Bond\", \"cr...</td>\n",
       "      <td>[{\"credit_id\": \"54805967c3a36829b5002c41\", \"de...</td>\n",
       "    </tr>\n",
       "    <tr>\n",
       "      <th>3</th>\n",
       "      <td>49026</td>\n",
       "      <td>The Dark Knight Rises</td>\n",
       "      <td>[{\"id\": 28, \"name\": \"Action\"}, {\"id\": 80, \"nam...</td>\n",
       "      <td>[{\"id\": 849, \"name\": \"dc comics\"}, {\"id\": 853,...</td>\n",
       "      <td>Following the death of District Attorney Harve...</td>\n",
       "      <td>[{\"cast_id\": 2, \"character\": \"Bruce Wayne / Ba...</td>\n",
       "      <td>[{\"credit_id\": \"52fe4781c3a36847f81398c3\", \"de...</td>\n",
       "    </tr>\n",
       "    <tr>\n",
       "      <th>4</th>\n",
       "      <td>49529</td>\n",
       "      <td>John Carter</td>\n",
       "      <td>[{\"id\": 28, \"name\": \"Action\"}, {\"id\": 12, \"nam...</td>\n",
       "      <td>[{\"id\": 818, \"name\": \"based on novel\"}, {\"id\":...</td>\n",
       "      <td>John Carter is a war-weary, former military ca...</td>\n",
       "      <td>[{\"cast_id\": 5, \"character\": \"John Carter\", \"c...</td>\n",
       "      <td>[{\"credit_id\": \"52fe479ac3a36847f813eaa3\", \"de...</td>\n",
       "    </tr>\n",
       "  </tbody>\n",
       "</table>\n",
       "</div>"
      ],
      "text/plain": [
       "       id                                     title  \\\n",
       "0   19995                                    Avatar   \n",
       "1     285  Pirates of the Caribbean: At World's End   \n",
       "2  206647                                   Spectre   \n",
       "3   49026                     The Dark Knight Rises   \n",
       "4   49529                               John Carter   \n",
       "\n",
       "                                              genres  \\\n",
       "0  [{\"id\": 28, \"name\": \"Action\"}, {\"id\": 12, \"nam...   \n",
       "1  [{\"id\": 12, \"name\": \"Adventure\"}, {\"id\": 14, \"...   \n",
       "2  [{\"id\": 28, \"name\": \"Action\"}, {\"id\": 12, \"nam...   \n",
       "3  [{\"id\": 28, \"name\": \"Action\"}, {\"id\": 80, \"nam...   \n",
       "4  [{\"id\": 28, \"name\": \"Action\"}, {\"id\": 12, \"nam...   \n",
       "\n",
       "                                            keywords  \\\n",
       "0  [{\"id\": 1463, \"name\": \"culture clash\"}, {\"id\":...   \n",
       "1  [{\"id\": 270, \"name\": \"ocean\"}, {\"id\": 726, \"na...   \n",
       "2  [{\"id\": 470, \"name\": \"spy\"}, {\"id\": 818, \"name...   \n",
       "3  [{\"id\": 849, \"name\": \"dc comics\"}, {\"id\": 853,...   \n",
       "4  [{\"id\": 818, \"name\": \"based on novel\"}, {\"id\":...   \n",
       "\n",
       "                                            overview  \\\n",
       "0  In the 22nd century, a paraplegic Marine is di...   \n",
       "1  Captain Barbossa, long believed to be dead, ha...   \n",
       "2  A cryptic message from Bond’s past sends him o...   \n",
       "3  Following the death of District Attorney Harve...   \n",
       "4  John Carter is a war-weary, former military ca...   \n",
       "\n",
       "                                                cast  \\\n",
       "0  [{\"cast_id\": 242, \"character\": \"Jake Sully\", \"...   \n",
       "1  [{\"cast_id\": 4, \"character\": \"Captain Jack Spa...   \n",
       "2  [{\"cast_id\": 1, \"character\": \"James Bond\", \"cr...   \n",
       "3  [{\"cast_id\": 2, \"character\": \"Bruce Wayne / Ba...   \n",
       "4  [{\"cast_id\": 5, \"character\": \"John Carter\", \"c...   \n",
       "\n",
       "                                                crew  \n",
       "0  [{\"credit_id\": \"52fe48009251416c750aca23\", \"de...  \n",
       "1  [{\"credit_id\": \"52fe4232c3a36847f800b579\", \"de...  \n",
       "2  [{\"credit_id\": \"54805967c3a36829b5002c41\", \"de...  \n",
       "3  [{\"credit_id\": \"52fe4781c3a36847f81398c3\", \"de...  \n",
       "4  [{\"credit_id\": \"52fe479ac3a36847f813eaa3\", \"de...  "
      ]
     },
     "execution_count": 10,
     "metadata": {},
     "output_type": "execute_result"
    }
   ],
   "source": [
    "movies.head()"
   ]
  },
  {
   "cell_type": "code",
   "execution_count": 11,
   "id": "e659621f",
   "metadata": {
    "execution": {
     "iopub.execute_input": "2023-05-13T12:14:03.586618Z",
     "iopub.status.busy": "2023-05-13T12:14:03.586153Z",
     "iopub.status.idle": "2023-05-13T12:14:03.604873Z",
     "shell.execute_reply": "2023-05-13T12:14:03.603281Z"
    },
    "papermill": {
     "duration": 0.034944,
     "end_time": "2023-05-13T12:14:03.607685",
     "exception": false,
     "start_time": "2023-05-13T12:14:03.572741",
     "status": "completed"
    },
    "tags": []
   },
   "outputs": [],
   "source": [
    "movies.dropna(inplace=True)"
   ]
  },
  {
   "cell_type": "code",
   "execution_count": 12,
   "id": "186c7799",
   "metadata": {
    "execution": {
     "iopub.execute_input": "2023-05-13T12:14:03.634168Z",
     "iopub.status.busy": "2023-05-13T12:14:03.633654Z",
     "iopub.status.idle": "2023-05-13T12:14:03.653109Z",
     "shell.execute_reply": "2023-05-13T12:14:03.651258Z"
    },
    "papermill": {
     "duration": 0.036517,
     "end_time": "2023-05-13T12:14:03.655954",
     "exception": false,
     "start_time": "2023-05-13T12:14:03.619437",
     "status": "completed"
    },
    "tags": []
   },
   "outputs": [
    {
     "data": {
      "text/plain": [
       "id          0\n",
       "title       0\n",
       "genres      0\n",
       "keywords    0\n",
       "overview    0\n",
       "cast        0\n",
       "crew        0\n",
       "dtype: int64"
      ]
     },
     "execution_count": 12,
     "metadata": {},
     "output_type": "execute_result"
    }
   ],
   "source": [
    "movies.isnull().sum()"
   ]
  },
  {
   "cell_type": "code",
   "execution_count": 13,
   "id": "d205c03e",
   "metadata": {
    "execution": {
     "iopub.execute_input": "2023-05-13T12:14:03.681379Z",
     "iopub.status.busy": "2023-05-13T12:14:03.680888Z",
     "iopub.status.idle": "2023-05-13T12:14:03.689595Z",
     "shell.execute_reply": "2023-05-13T12:14:03.688304Z"
    },
    "papermill": {
     "duration": 0.024475,
     "end_time": "2023-05-13T12:14:03.692136",
     "exception": false,
     "start_time": "2023-05-13T12:14:03.667661",
     "status": "completed"
    },
    "tags": []
   },
   "outputs": [
    {
     "data": {
      "text/plain": [
       "(4806, 7)"
      ]
     },
     "execution_count": 13,
     "metadata": {},
     "output_type": "execute_result"
    }
   ],
   "source": [
    "movies.shape"
   ]
  },
  {
   "cell_type": "code",
   "execution_count": 14,
   "id": "81077657",
   "metadata": {
    "execution": {
     "iopub.execute_input": "2023-05-13T12:14:03.718233Z",
     "iopub.status.busy": "2023-05-13T12:14:03.717710Z",
     "iopub.status.idle": "2023-05-13T12:14:03.829845Z",
     "shell.execute_reply": "2023-05-13T12:14:03.828432Z"
    },
    "papermill": {
     "duration": 0.128943,
     "end_time": "2023-05-13T12:14:03.832661",
     "exception": false,
     "start_time": "2023-05-13T12:14:03.703718",
     "status": "completed"
    },
    "tags": []
   },
   "outputs": [
    {
     "data": {
      "text/plain": [
       "0"
      ]
     },
     "execution_count": 14,
     "metadata": {},
     "output_type": "execute_result"
    }
   ],
   "source": [
    "movies.duplicated().sum()"
   ]
  },
  {
   "cell_type": "markdown",
   "id": "d782d85b",
   "metadata": {
    "papermill": {
     "duration": 0.011867,
     "end_time": "2023-05-13T12:14:03.856878",
     "exception": false,
     "start_time": "2023-05-13T12:14:03.845011",
     "status": "completed"
    },
    "tags": []
   },
   "source": [
    "## Removing unnecessary words, and items"
   ]
  },
  {
   "cell_type": "code",
   "execution_count": 15,
   "id": "0c684976",
   "metadata": {
    "execution": {
     "iopub.execute_input": "2023-05-13T12:14:03.883339Z",
     "iopub.status.busy": "2023-05-13T12:14:03.882879Z",
     "iopub.status.idle": "2023-05-13T12:14:03.891664Z",
     "shell.execute_reply": "2023-05-13T12:14:03.890077Z"
    },
    "papermill": {
     "duration": 0.025205,
     "end_time": "2023-05-13T12:14:03.894249",
     "exception": false,
     "start_time": "2023-05-13T12:14:03.869044",
     "status": "completed"
    },
    "tags": []
   },
   "outputs": [
    {
     "data": {
      "text/plain": [
       "'[{\"id\": 28, \"name\": \"Action\"}, {\"id\": 12, \"name\": \"Adventure\"}, {\"id\": 14, \"name\": \"Fantasy\"}, {\"id\": 878, \"name\": \"Science Fiction\"}]'"
      ]
     },
     "execution_count": 15,
     "metadata": {},
     "output_type": "execute_result"
    }
   ],
   "source": [
    "movies.iloc[0].genres"
   ]
  },
  {
   "cell_type": "code",
   "execution_count": 16,
   "id": "b8f628ad",
   "metadata": {
    "execution": {
     "iopub.execute_input": "2023-05-13T12:14:03.921422Z",
     "iopub.status.busy": "2023-05-13T12:14:03.920916Z",
     "iopub.status.idle": "2023-05-13T12:14:03.928190Z",
     "shell.execute_reply": "2023-05-13T12:14:03.926339Z"
    },
    "papermill": {
     "duration": 0.024233,
     "end_time": "2023-05-13T12:14:03.931012",
     "exception": false,
     "start_time": "2023-05-13T12:14:03.906779",
     "status": "completed"
    },
    "tags": []
   },
   "outputs": [],
   "source": [
    "#convert this to [\"Action\", \"Adventure\", \"Fantasy\", \"SciFy\"]\n",
    "import ast\n",
    "\n",
    "def convert(obj):\n",
    "    l = []\n",
    "    for i in ast.literal_eval(obj):\n",
    "        l.append(i[\"name\"])\n",
    "    return l"
   ]
  },
  {
   "cell_type": "code",
   "execution_count": 17,
   "id": "93d2efc9",
   "metadata": {
    "execution": {
     "iopub.execute_input": "2023-05-13T12:14:03.959925Z",
     "iopub.status.busy": "2023-05-13T12:14:03.959425Z",
     "iopub.status.idle": "2023-05-13T12:14:03.968697Z",
     "shell.execute_reply": "2023-05-13T12:14:03.967306Z"
    },
    "papermill": {
     "duration": 0.027669,
     "end_time": "2023-05-13T12:14:03.971394",
     "exception": false,
     "start_time": "2023-05-13T12:14:03.943725",
     "status": "completed"
    },
    "tags": []
   },
   "outputs": [
    {
     "data": {
      "text/plain": [
       "['Action', 'Adventure', 'Fantasy', 'Science Fiction']"
      ]
     },
     "execution_count": 17,
     "metadata": {},
     "output_type": "execute_result"
    }
   ],
   "source": [
    "convert(movies.iloc[0].genres)"
   ]
  },
  {
   "cell_type": "code",
   "execution_count": 18,
   "id": "303319d1",
   "metadata": {
    "execution": {
     "iopub.execute_input": "2023-05-13T12:14:04.000935Z",
     "iopub.status.busy": "2023-05-13T12:14:04.000475Z",
     "iopub.status.idle": "2023-05-13T12:14:04.187996Z",
     "shell.execute_reply": "2023-05-13T12:14:04.186417Z"
    },
    "papermill": {
     "duration": 0.206238,
     "end_time": "2023-05-13T12:14:04.190967",
     "exception": false,
     "start_time": "2023-05-13T12:14:03.984729",
     "status": "completed"
    },
    "tags": []
   },
   "outputs": [],
   "source": [
    "movies[\"genres\"] = movies[\"genres\"].apply(convert)"
   ]
  },
  {
   "cell_type": "code",
   "execution_count": 19,
   "id": "d9742420",
   "metadata": {
    "execution": {
     "iopub.execute_input": "2023-05-13T12:14:04.221038Z",
     "iopub.status.busy": "2023-05-13T12:14:04.220591Z",
     "iopub.status.idle": "2023-05-13T12:14:04.843603Z",
     "shell.execute_reply": "2023-05-13T12:14:04.842083Z"
    },
    "papermill": {
     "duration": 0.641999,
     "end_time": "2023-05-13T12:14:04.846527",
     "exception": false,
     "start_time": "2023-05-13T12:14:04.204528",
     "status": "completed"
    },
    "tags": []
   },
   "outputs": [],
   "source": [
    "movies[\"keywords\"] = movies[\"keywords\"].apply(convert)"
   ]
  },
  {
   "cell_type": "code",
   "execution_count": 20,
   "id": "57fb539a",
   "metadata": {
    "execution": {
     "iopub.execute_input": "2023-05-13T12:14:04.874210Z",
     "iopub.status.busy": "2023-05-13T12:14:04.873816Z",
     "iopub.status.idle": "2023-05-13T12:14:04.880826Z",
     "shell.execute_reply": "2023-05-13T12:14:04.879792Z"
    },
    "papermill": {
     "duration": 0.023357,
     "end_time": "2023-05-13T12:14:04.882999",
     "exception": false,
     "start_time": "2023-05-13T12:14:04.859642",
     "status": "completed"
    },
    "tags": []
   },
   "outputs": [
    {
     "data": {
      "text/plain": [
       "22831"
      ]
     },
     "execution_count": 20,
     "metadata": {},
     "output_type": "execute_result"
    }
   ],
   "source": [
    "len(movies.iloc[0].crew)"
   ]
  },
  {
   "cell_type": "code",
   "execution_count": 21,
   "id": "72f4171c",
   "metadata": {
    "execution": {
     "iopub.execute_input": "2023-05-13T12:14:04.910309Z",
     "iopub.status.busy": "2023-05-13T12:14:04.909596Z",
     "iopub.status.idle": "2023-05-13T12:14:04.915871Z",
     "shell.execute_reply": "2023-05-13T12:14:04.914494Z"
    },
    "papermill": {
     "duration": 0.0232,
     "end_time": "2023-05-13T12:14:04.918602",
     "exception": false,
     "start_time": "2023-05-13T12:14:04.895402",
     "status": "completed"
    },
    "tags": []
   },
   "outputs": [],
   "source": [
    "def convert3(obj):\n",
    "    l = []\n",
    "    count = 0\n",
    "    for i in ast.literal_eval(obj):\n",
    "        if not count==3:\n",
    "            l.append(i[\"name\"])\n",
    "            count+=1\n",
    "        else:\n",
    "            break\n",
    "    return l"
   ]
  },
  {
   "cell_type": "code",
   "execution_count": 22,
   "id": "8e7d7b60",
   "metadata": {
    "execution": {
     "iopub.execute_input": "2023-05-13T12:14:04.946570Z",
     "iopub.status.busy": "2023-05-13T12:14:04.946052Z",
     "iopub.status.idle": "2023-05-13T12:14:08.807963Z",
     "shell.execute_reply": "2023-05-13T12:14:08.806718Z"
    },
    "papermill": {
     "duration": 3.879176,
     "end_time": "2023-05-13T12:14:08.811007",
     "exception": false,
     "start_time": "2023-05-13T12:14:04.931831",
     "status": "completed"
    },
    "tags": []
   },
   "outputs": [],
   "source": [
    "movies[\"cast\"] = movies[\"cast\"].apply(convert3) # only include top 3 cast\n"
   ]
  },
  {
   "cell_type": "code",
   "execution_count": 23,
   "id": "f5de043e",
   "metadata": {
    "execution": {
     "iopub.execute_input": "2023-05-13T12:14:08.840938Z",
     "iopub.status.busy": "2023-05-13T12:14:08.840526Z",
     "iopub.status.idle": "2023-05-13T12:14:08.854144Z",
     "shell.execute_reply": "2023-05-13T12:14:08.852451Z"
    },
    "papermill": {
     "duration": 0.032354,
     "end_time": "2023-05-13T12:14:08.857025",
     "exception": false,
     "start_time": "2023-05-13T12:14:08.824671",
     "status": "completed"
    },
    "tags": []
   },
   "outputs": [
    {
     "data": {
      "text/plain": [
       "0        [Sam Worthington, Zoe Saldana, Sigourney Weaver]\n",
       "1           [Johnny Depp, Orlando Bloom, Keira Knightley]\n",
       "2            [Daniel Craig, Christoph Waltz, Léa Seydoux]\n",
       "3            [Christian Bale, Michael Caine, Gary Oldman]\n",
       "4          [Taylor Kitsch, Lynn Collins, Samantha Morton]\n",
       "                              ...                        \n",
       "4804    [Carlos Gallardo, Jaime de Hoyos, Peter Marqua...\n",
       "4805         [Edward Burns, Kerry Bishé, Marsha Dietlein]\n",
       "4806           [Eric Mabius, Kristin Booth, Crystal Lowe]\n",
       "4807            [Daniel Henney, Eliza Coupe, Bill Paxton]\n",
       "4808    [Drew Barrymore, Brian Herzlinger, Corey Feldman]\n",
       "Name: cast, Length: 4806, dtype: object"
      ]
     },
     "execution_count": 23,
     "metadata": {},
     "output_type": "execute_result"
    }
   ],
   "source": [
    "movies[\"cast\"]"
   ]
  },
  {
   "cell_type": "code",
   "execution_count": 24,
   "id": "f614396e",
   "metadata": {
    "execution": {
     "iopub.execute_input": "2023-05-13T12:14:08.886297Z",
     "iopub.status.busy": "2023-05-13T12:14:08.885445Z",
     "iopub.status.idle": "2023-05-13T12:14:08.892502Z",
     "shell.execute_reply": "2023-05-13T12:14:08.891304Z"
    },
    "papermill": {
     "duration": 0.024615,
     "end_time": "2023-05-13T12:14:08.895070",
     "exception": false,
     "start_time": "2023-05-13T12:14:08.870455",
     "status": "completed"
    },
    "tags": []
   },
   "outputs": [],
   "source": [
    "def fetch_director(obj):\n",
    "    l = []\n",
    "    count = 0\n",
    "    for i in ast.literal_eval(obj):\n",
    "        if i[\"job\"].lower() == \"director\":\n",
    "            l.append(i[\"name\"])\n",
    "            break\n",
    "    return l"
   ]
  },
  {
   "cell_type": "code",
   "execution_count": 25,
   "id": "edd4ffc6",
   "metadata": {
    "execution": {
     "iopub.execute_input": "2023-05-13T12:14:08.924833Z",
     "iopub.status.busy": "2023-05-13T12:14:08.924411Z",
     "iopub.status.idle": "2023-05-13T12:14:13.574249Z",
     "shell.execute_reply": "2023-05-13T12:14:13.572618Z"
    },
    "papermill": {
     "duration": 4.669455,
     "end_time": "2023-05-13T12:14:13.577954",
     "exception": false,
     "start_time": "2023-05-13T12:14:08.908499",
     "status": "completed"
    },
    "tags": []
   },
   "outputs": [],
   "source": [
    "movies[\"crew\"] = movies[\"crew\"].apply(fetch_director) #fetching only the director"
   ]
  },
  {
   "cell_type": "code",
   "execution_count": 26,
   "id": "5f2ff9ca",
   "metadata": {
    "execution": {
     "iopub.execute_input": "2023-05-13T12:14:13.606936Z",
     "iopub.status.busy": "2023-05-13T12:14:13.606487Z",
     "iopub.status.idle": "2023-05-13T12:14:13.631013Z",
     "shell.execute_reply": "2023-05-13T12:14:13.629537Z"
    },
    "papermill": {
     "duration": 0.042327,
     "end_time": "2023-05-13T12:14:13.633849",
     "exception": false,
     "start_time": "2023-05-13T12:14:13.591522",
     "status": "completed"
    },
    "tags": []
   },
   "outputs": [
    {
     "data": {
      "text/html": [
       "<div>\n",
       "<style scoped>\n",
       "    .dataframe tbody tr th:only-of-type {\n",
       "        vertical-align: middle;\n",
       "    }\n",
       "\n",
       "    .dataframe tbody tr th {\n",
       "        vertical-align: top;\n",
       "    }\n",
       "\n",
       "    .dataframe thead th {\n",
       "        text-align: right;\n",
       "    }\n",
       "</style>\n",
       "<table border=\"1\" class=\"dataframe\">\n",
       "  <thead>\n",
       "    <tr style=\"text-align: right;\">\n",
       "      <th></th>\n",
       "      <th>id</th>\n",
       "      <th>title</th>\n",
       "      <th>genres</th>\n",
       "      <th>keywords</th>\n",
       "      <th>overview</th>\n",
       "      <th>cast</th>\n",
       "      <th>crew</th>\n",
       "    </tr>\n",
       "  </thead>\n",
       "  <tbody>\n",
       "    <tr>\n",
       "      <th>0</th>\n",
       "      <td>19995</td>\n",
       "      <td>Avatar</td>\n",
       "      <td>[Action, Adventure, Fantasy, Science Fiction]</td>\n",
       "      <td>[culture clash, future, space war, space colon...</td>\n",
       "      <td>In the 22nd century, a paraplegic Marine is di...</td>\n",
       "      <td>[Sam Worthington, Zoe Saldana, Sigourney Weaver]</td>\n",
       "      <td>[James Cameron]</td>\n",
       "    </tr>\n",
       "    <tr>\n",
       "      <th>1</th>\n",
       "      <td>285</td>\n",
       "      <td>Pirates of the Caribbean: At World's End</td>\n",
       "      <td>[Adventure, Fantasy, Action]</td>\n",
       "      <td>[ocean, drug abuse, exotic island, east india ...</td>\n",
       "      <td>Captain Barbossa, long believed to be dead, ha...</td>\n",
       "      <td>[Johnny Depp, Orlando Bloom, Keira Knightley]</td>\n",
       "      <td>[Gore Verbinski]</td>\n",
       "    </tr>\n",
       "    <tr>\n",
       "      <th>2</th>\n",
       "      <td>206647</td>\n",
       "      <td>Spectre</td>\n",
       "      <td>[Action, Adventure, Crime]</td>\n",
       "      <td>[spy, based on novel, secret agent, sequel, mi...</td>\n",
       "      <td>A cryptic message from Bond’s past sends him o...</td>\n",
       "      <td>[Daniel Craig, Christoph Waltz, Léa Seydoux]</td>\n",
       "      <td>[Sam Mendes]</td>\n",
       "    </tr>\n",
       "    <tr>\n",
       "      <th>3</th>\n",
       "      <td>49026</td>\n",
       "      <td>The Dark Knight Rises</td>\n",
       "      <td>[Action, Crime, Drama, Thriller]</td>\n",
       "      <td>[dc comics, crime fighter, terrorist, secret i...</td>\n",
       "      <td>Following the death of District Attorney Harve...</td>\n",
       "      <td>[Christian Bale, Michael Caine, Gary Oldman]</td>\n",
       "      <td>[Christopher Nolan]</td>\n",
       "    </tr>\n",
       "    <tr>\n",
       "      <th>4</th>\n",
       "      <td>49529</td>\n",
       "      <td>John Carter</td>\n",
       "      <td>[Action, Adventure, Science Fiction]</td>\n",
       "      <td>[based on novel, mars, medallion, space travel...</td>\n",
       "      <td>John Carter is a war-weary, former military ca...</td>\n",
       "      <td>[Taylor Kitsch, Lynn Collins, Samantha Morton]</td>\n",
       "      <td>[Andrew Stanton]</td>\n",
       "    </tr>\n",
       "  </tbody>\n",
       "</table>\n",
       "</div>"
      ],
      "text/plain": [
       "       id                                     title  \\\n",
       "0   19995                                    Avatar   \n",
       "1     285  Pirates of the Caribbean: At World's End   \n",
       "2  206647                                   Spectre   \n",
       "3   49026                     The Dark Knight Rises   \n",
       "4   49529                               John Carter   \n",
       "\n",
       "                                          genres  \\\n",
       "0  [Action, Adventure, Fantasy, Science Fiction]   \n",
       "1                   [Adventure, Fantasy, Action]   \n",
       "2                     [Action, Adventure, Crime]   \n",
       "3               [Action, Crime, Drama, Thriller]   \n",
       "4           [Action, Adventure, Science Fiction]   \n",
       "\n",
       "                                            keywords  \\\n",
       "0  [culture clash, future, space war, space colon...   \n",
       "1  [ocean, drug abuse, exotic island, east india ...   \n",
       "2  [spy, based on novel, secret agent, sequel, mi...   \n",
       "3  [dc comics, crime fighter, terrorist, secret i...   \n",
       "4  [based on novel, mars, medallion, space travel...   \n",
       "\n",
       "                                            overview  \\\n",
       "0  In the 22nd century, a paraplegic Marine is di...   \n",
       "1  Captain Barbossa, long believed to be dead, ha...   \n",
       "2  A cryptic message from Bond’s past sends him o...   \n",
       "3  Following the death of District Attorney Harve...   \n",
       "4  John Carter is a war-weary, former military ca...   \n",
       "\n",
       "                                               cast                 crew  \n",
       "0  [Sam Worthington, Zoe Saldana, Sigourney Weaver]      [James Cameron]  \n",
       "1     [Johnny Depp, Orlando Bloom, Keira Knightley]     [Gore Verbinski]  \n",
       "2      [Daniel Craig, Christoph Waltz, Léa Seydoux]         [Sam Mendes]  \n",
       "3      [Christian Bale, Michael Caine, Gary Oldman]  [Christopher Nolan]  \n",
       "4    [Taylor Kitsch, Lynn Collins, Samantha Morton]     [Andrew Stanton]  "
      ]
     },
     "execution_count": 26,
     "metadata": {},
     "output_type": "execute_result"
    }
   ],
   "source": [
    "movies.head()"
   ]
  },
  {
   "cell_type": "code",
   "execution_count": 27,
   "id": "5320e4e7",
   "metadata": {
    "execution": {
     "iopub.execute_input": "2023-05-13T12:14:13.663571Z",
     "iopub.status.busy": "2023-05-13T12:14:13.663077Z",
     "iopub.status.idle": "2023-05-13T12:14:13.721083Z",
     "shell.execute_reply": "2023-05-13T12:14:13.719628Z"
    },
    "papermill": {
     "duration": 0.076413,
     "end_time": "2023-05-13T12:14:13.723957",
     "exception": false,
     "start_time": "2023-05-13T12:14:13.647544",
     "status": "completed"
    },
    "tags": []
   },
   "outputs": [
    {
     "data": {
      "text/plain": [
       "0       [In, the, 22nd, century,, a, paraplegic, Marin...\n",
       "1       [Captain, Barbossa,, long, believed, to, be, d...\n",
       "2       [A, cryptic, message, from, Bond’s, past, send...\n",
       "3       [Following, the, death, of, District, Attorney...\n",
       "4       [John, Carter, is, a, war-weary,, former, mili...\n",
       "                              ...                        \n",
       "4804    [El, Mariachi, just, wants, to, play, his, gui...\n",
       "4805    [A, newlywed, couple's, honeymoon, is, upended...\n",
       "4806    [\"Signed,, Sealed,, Delivered\", introduces, a,...\n",
       "4807    [When, ambitious, New, York, attorney, Sam, is...\n",
       "4808    [Ever, since, the, second, grade, when, he, fi...\n",
       "Name: overview, Length: 4806, dtype: object"
      ]
     },
     "execution_count": 27,
     "metadata": {},
     "output_type": "execute_result"
    }
   ],
   "source": [
    "movies[\"overview\"].apply(lambda x:x.split())"
   ]
  },
  {
   "cell_type": "code",
   "execution_count": 28,
   "id": "4571b4c5",
   "metadata": {
    "execution": {
     "iopub.execute_input": "2023-05-13T12:14:13.754488Z",
     "iopub.status.busy": "2023-05-13T12:14:13.753054Z",
     "iopub.status.idle": "2023-05-13T12:14:13.962795Z",
     "shell.execute_reply": "2023-05-13T12:14:13.961636Z"
    },
    "papermill": {
     "duration": 0.228022,
     "end_time": "2023-05-13T12:14:13.965840",
     "exception": false,
     "start_time": "2023-05-13T12:14:13.737818",
     "status": "completed"
    },
    "tags": []
   },
   "outputs": [],
   "source": [
    "movies[\"overview\"] = movies[\"overview\"].apply(lambda x:x.split()) # convertinf=g to array"
   ]
  },
  {
   "cell_type": "code",
   "execution_count": 29,
   "id": "221aa84a",
   "metadata": {
    "execution": {
     "iopub.execute_input": "2023-05-13T12:14:13.997908Z",
     "iopub.status.busy": "2023-05-13T12:14:13.996280Z",
     "iopub.status.idle": "2023-05-13T12:14:14.043710Z",
     "shell.execute_reply": "2023-05-13T12:14:14.042834Z"
    },
    "papermill": {
     "duration": 0.065195,
     "end_time": "2023-05-13T12:14:14.046228",
     "exception": false,
     "start_time": "2023-05-13T12:14:13.981033",
     "status": "completed"
    },
    "tags": []
   },
   "outputs": [],
   "source": [
    "# removing space between words\n",
    "movies[\"genres\"] = movies[\"genres\"].apply(lambda x:[i.replace(\" \", \"\") for i in x])\n",
    "movies[\"cast\"] = movies[\"cast\"].apply(lambda x:[i.replace(\" \", \"\") for i in x])\n",
    "movies[\"crew\"] = movies[\"crew\"].apply(lambda x:[i.replace(\" \", \"\") for i in x])\n",
    "movies[\"keywords\"] = movies[\"keywords\"].apply(lambda x:[i.replace(\" \", \"\") for i in x])\n"
   ]
  },
  {
   "cell_type": "code",
   "execution_count": 30,
   "id": "e0302257",
   "metadata": {
    "execution": {
     "iopub.execute_input": "2023-05-13T12:14:14.076601Z",
     "iopub.status.busy": "2023-05-13T12:14:14.075448Z",
     "iopub.status.idle": "2023-05-13T12:14:14.101440Z",
     "shell.execute_reply": "2023-05-13T12:14:14.099994Z"
    },
    "papermill": {
     "duration": 0.044693,
     "end_time": "2023-05-13T12:14:14.104290",
     "exception": false,
     "start_time": "2023-05-13T12:14:14.059597",
     "status": "completed"
    },
    "tags": []
   },
   "outputs": [
    {
     "data": {
      "text/html": [
       "<div>\n",
       "<style scoped>\n",
       "    .dataframe tbody tr th:only-of-type {\n",
       "        vertical-align: middle;\n",
       "    }\n",
       "\n",
       "    .dataframe tbody tr th {\n",
       "        vertical-align: top;\n",
       "    }\n",
       "\n",
       "    .dataframe thead th {\n",
       "        text-align: right;\n",
       "    }\n",
       "</style>\n",
       "<table border=\"1\" class=\"dataframe\">\n",
       "  <thead>\n",
       "    <tr style=\"text-align: right;\">\n",
       "      <th></th>\n",
       "      <th>id</th>\n",
       "      <th>title</th>\n",
       "      <th>genres</th>\n",
       "      <th>keywords</th>\n",
       "      <th>overview</th>\n",
       "      <th>cast</th>\n",
       "      <th>crew</th>\n",
       "    </tr>\n",
       "  </thead>\n",
       "  <tbody>\n",
       "    <tr>\n",
       "      <th>0</th>\n",
       "      <td>19995</td>\n",
       "      <td>Avatar</td>\n",
       "      <td>[Action, Adventure, Fantasy, ScienceFiction]</td>\n",
       "      <td>[cultureclash, future, spacewar, spacecolony, ...</td>\n",
       "      <td>[In, the, 22nd, century,, a, paraplegic, Marin...</td>\n",
       "      <td>[SamWorthington, ZoeSaldana, SigourneyWeaver]</td>\n",
       "      <td>[JamesCameron]</td>\n",
       "    </tr>\n",
       "    <tr>\n",
       "      <th>1</th>\n",
       "      <td>285</td>\n",
       "      <td>Pirates of the Caribbean: At World's End</td>\n",
       "      <td>[Adventure, Fantasy, Action]</td>\n",
       "      <td>[ocean, drugabuse, exoticisland, eastindiatrad...</td>\n",
       "      <td>[Captain, Barbossa,, long, believed, to, be, d...</td>\n",
       "      <td>[JohnnyDepp, OrlandoBloom, KeiraKnightley]</td>\n",
       "      <td>[GoreVerbinski]</td>\n",
       "    </tr>\n",
       "    <tr>\n",
       "      <th>2</th>\n",
       "      <td>206647</td>\n",
       "      <td>Spectre</td>\n",
       "      <td>[Action, Adventure, Crime]</td>\n",
       "      <td>[spy, basedonnovel, secretagent, sequel, mi6, ...</td>\n",
       "      <td>[A, cryptic, message, from, Bond’s, past, send...</td>\n",
       "      <td>[DanielCraig, ChristophWaltz, LéaSeydoux]</td>\n",
       "      <td>[SamMendes]</td>\n",
       "    </tr>\n",
       "    <tr>\n",
       "      <th>3</th>\n",
       "      <td>49026</td>\n",
       "      <td>The Dark Knight Rises</td>\n",
       "      <td>[Action, Crime, Drama, Thriller]</td>\n",
       "      <td>[dccomics, crimefighter, terrorist, secretiden...</td>\n",
       "      <td>[Following, the, death, of, District, Attorney...</td>\n",
       "      <td>[ChristianBale, MichaelCaine, GaryOldman]</td>\n",
       "      <td>[ChristopherNolan]</td>\n",
       "    </tr>\n",
       "    <tr>\n",
       "      <th>4</th>\n",
       "      <td>49529</td>\n",
       "      <td>John Carter</td>\n",
       "      <td>[Action, Adventure, ScienceFiction]</td>\n",
       "      <td>[basedonnovel, mars, medallion, spacetravel, p...</td>\n",
       "      <td>[John, Carter, is, a, war-weary,, former, mili...</td>\n",
       "      <td>[TaylorKitsch, LynnCollins, SamanthaMorton]</td>\n",
       "      <td>[AndrewStanton]</td>\n",
       "    </tr>\n",
       "  </tbody>\n",
       "</table>\n",
       "</div>"
      ],
      "text/plain": [
       "       id                                     title  \\\n",
       "0   19995                                    Avatar   \n",
       "1     285  Pirates of the Caribbean: At World's End   \n",
       "2  206647                                   Spectre   \n",
       "3   49026                     The Dark Knight Rises   \n",
       "4   49529                               John Carter   \n",
       "\n",
       "                                         genres  \\\n",
       "0  [Action, Adventure, Fantasy, ScienceFiction]   \n",
       "1                  [Adventure, Fantasy, Action]   \n",
       "2                    [Action, Adventure, Crime]   \n",
       "3              [Action, Crime, Drama, Thriller]   \n",
       "4           [Action, Adventure, ScienceFiction]   \n",
       "\n",
       "                                            keywords  \\\n",
       "0  [cultureclash, future, spacewar, spacecolony, ...   \n",
       "1  [ocean, drugabuse, exoticisland, eastindiatrad...   \n",
       "2  [spy, basedonnovel, secretagent, sequel, mi6, ...   \n",
       "3  [dccomics, crimefighter, terrorist, secretiden...   \n",
       "4  [basedonnovel, mars, medallion, spacetravel, p...   \n",
       "\n",
       "                                            overview  \\\n",
       "0  [In, the, 22nd, century,, a, paraplegic, Marin...   \n",
       "1  [Captain, Barbossa,, long, believed, to, be, d...   \n",
       "2  [A, cryptic, message, from, Bond’s, past, send...   \n",
       "3  [Following, the, death, of, District, Attorney...   \n",
       "4  [John, Carter, is, a, war-weary,, former, mili...   \n",
       "\n",
       "                                            cast                crew  \n",
       "0  [SamWorthington, ZoeSaldana, SigourneyWeaver]      [JamesCameron]  \n",
       "1     [JohnnyDepp, OrlandoBloom, KeiraKnightley]     [GoreVerbinski]  \n",
       "2      [DanielCraig, ChristophWaltz, LéaSeydoux]         [SamMendes]  \n",
       "3      [ChristianBale, MichaelCaine, GaryOldman]  [ChristopherNolan]  \n",
       "4    [TaylorKitsch, LynnCollins, SamanthaMorton]     [AndrewStanton]  "
      ]
     },
     "execution_count": 30,
     "metadata": {},
     "output_type": "execute_result"
    }
   ],
   "source": [
    "movies.head()"
   ]
  },
  {
   "cell_type": "code",
   "execution_count": 31,
   "id": "3988fe38",
   "metadata": {
    "execution": {
     "iopub.execute_input": "2023-05-13T12:14:14.134861Z",
     "iopub.status.busy": "2023-05-13T12:14:14.134468Z",
     "iopub.status.idle": "2023-05-13T12:14:14.194079Z",
     "shell.execute_reply": "2023-05-13T12:14:14.192818Z"
    },
    "papermill": {
     "duration": 0.077822,
     "end_time": "2023-05-13T12:14:14.196681",
     "exception": false,
     "start_time": "2023-05-13T12:14:14.118859",
     "status": "completed"
    },
    "tags": []
   },
   "outputs": [],
   "source": [
    "movies[\"tags\"] = movies[\"overview\"] + movies[\"cast\"] + movies[\"crew\"] + movies['keywords'] + movies[\"genres\"]"
   ]
  },
  {
   "cell_type": "code",
   "execution_count": 32,
   "id": "be6e571e",
   "metadata": {
    "execution": {
     "iopub.execute_input": "2023-05-13T12:14:14.230642Z",
     "iopub.status.busy": "2023-05-13T12:14:14.229752Z",
     "iopub.status.idle": "2023-05-13T12:14:14.237504Z",
     "shell.execute_reply": "2023-05-13T12:14:14.236251Z"
    },
    "papermill": {
     "duration": 0.028768,
     "end_time": "2023-05-13T12:14:14.240460",
     "exception": false,
     "start_time": "2023-05-13T12:14:14.211692",
     "status": "completed"
    },
    "tags": []
   },
   "outputs": [],
   "source": [
    "new_df = movies[[\"id\", \"title\", \"tags\"]]"
   ]
  },
  {
   "cell_type": "code",
   "execution_count": 33,
   "id": "0e1fbdc6",
   "metadata": {
    "execution": {
     "iopub.execute_input": "2023-05-13T12:14:14.272076Z",
     "iopub.status.busy": "2023-05-13T12:14:14.271642Z",
     "iopub.status.idle": "2023-05-13T12:14:14.292180Z",
     "shell.execute_reply": "2023-05-13T12:14:14.291076Z"
    },
    "papermill": {
     "duration": 0.039664,
     "end_time": "2023-05-13T12:14:14.294712",
     "exception": false,
     "start_time": "2023-05-13T12:14:14.255048",
     "status": "completed"
    },
    "tags": []
   },
   "outputs": [
    {
     "data": {
      "text/html": [
       "<div>\n",
       "<style scoped>\n",
       "    .dataframe tbody tr th:only-of-type {\n",
       "        vertical-align: middle;\n",
       "    }\n",
       "\n",
       "    .dataframe tbody tr th {\n",
       "        vertical-align: top;\n",
       "    }\n",
       "\n",
       "    .dataframe thead th {\n",
       "        text-align: right;\n",
       "    }\n",
       "</style>\n",
       "<table border=\"1\" class=\"dataframe\">\n",
       "  <thead>\n",
       "    <tr style=\"text-align: right;\">\n",
       "      <th></th>\n",
       "      <th>id</th>\n",
       "      <th>title</th>\n",
       "      <th>tags</th>\n",
       "    </tr>\n",
       "  </thead>\n",
       "  <tbody>\n",
       "    <tr>\n",
       "      <th>0</th>\n",
       "      <td>19995</td>\n",
       "      <td>Avatar</td>\n",
       "      <td>[In, the, 22nd, century,, a, paraplegic, Marin...</td>\n",
       "    </tr>\n",
       "    <tr>\n",
       "      <th>1</th>\n",
       "      <td>285</td>\n",
       "      <td>Pirates of the Caribbean: At World's End</td>\n",
       "      <td>[Captain, Barbossa,, long, believed, to, be, d...</td>\n",
       "    </tr>\n",
       "    <tr>\n",
       "      <th>2</th>\n",
       "      <td>206647</td>\n",
       "      <td>Spectre</td>\n",
       "      <td>[A, cryptic, message, from, Bond’s, past, send...</td>\n",
       "    </tr>\n",
       "    <tr>\n",
       "      <th>3</th>\n",
       "      <td>49026</td>\n",
       "      <td>The Dark Knight Rises</td>\n",
       "      <td>[Following, the, death, of, District, Attorney...</td>\n",
       "    </tr>\n",
       "    <tr>\n",
       "      <th>4</th>\n",
       "      <td>49529</td>\n",
       "      <td>John Carter</td>\n",
       "      <td>[John, Carter, is, a, war-weary,, former, mili...</td>\n",
       "    </tr>\n",
       "    <tr>\n",
       "      <th>...</th>\n",
       "      <td>...</td>\n",
       "      <td>...</td>\n",
       "      <td>...</td>\n",
       "    </tr>\n",
       "    <tr>\n",
       "      <th>4804</th>\n",
       "      <td>9367</td>\n",
       "      <td>El Mariachi</td>\n",
       "      <td>[El, Mariachi, just, wants, to, play, his, gui...</td>\n",
       "    </tr>\n",
       "    <tr>\n",
       "      <th>4805</th>\n",
       "      <td>72766</td>\n",
       "      <td>Newlyweds</td>\n",
       "      <td>[A, newlywed, couple's, honeymoon, is, upended...</td>\n",
       "    </tr>\n",
       "    <tr>\n",
       "      <th>4806</th>\n",
       "      <td>231617</td>\n",
       "      <td>Signed, Sealed, Delivered</td>\n",
       "      <td>[\"Signed,, Sealed,, Delivered\", introduces, a,...</td>\n",
       "    </tr>\n",
       "    <tr>\n",
       "      <th>4807</th>\n",
       "      <td>126186</td>\n",
       "      <td>Shanghai Calling</td>\n",
       "      <td>[When, ambitious, New, York, attorney, Sam, is...</td>\n",
       "    </tr>\n",
       "    <tr>\n",
       "      <th>4808</th>\n",
       "      <td>25975</td>\n",
       "      <td>My Date with Drew</td>\n",
       "      <td>[Ever, since, the, second, grade, when, he, fi...</td>\n",
       "    </tr>\n",
       "  </tbody>\n",
       "</table>\n",
       "<p>4806 rows × 3 columns</p>\n",
       "</div>"
      ],
      "text/plain": [
       "          id                                     title  \\\n",
       "0      19995                                    Avatar   \n",
       "1        285  Pirates of the Caribbean: At World's End   \n",
       "2     206647                                   Spectre   \n",
       "3      49026                     The Dark Knight Rises   \n",
       "4      49529                               John Carter   \n",
       "...      ...                                       ...   \n",
       "4804    9367                               El Mariachi   \n",
       "4805   72766                                 Newlyweds   \n",
       "4806  231617                 Signed, Sealed, Delivered   \n",
       "4807  126186                          Shanghai Calling   \n",
       "4808   25975                         My Date with Drew   \n",
       "\n",
       "                                                   tags  \n",
       "0     [In, the, 22nd, century,, a, paraplegic, Marin...  \n",
       "1     [Captain, Barbossa,, long, believed, to, be, d...  \n",
       "2     [A, cryptic, message, from, Bond’s, past, send...  \n",
       "3     [Following, the, death, of, District, Attorney...  \n",
       "4     [John, Carter, is, a, war-weary,, former, mili...  \n",
       "...                                                 ...  \n",
       "4804  [El, Mariachi, just, wants, to, play, his, gui...  \n",
       "4805  [A, newlywed, couple's, honeymoon, is, upended...  \n",
       "4806  [\"Signed,, Sealed,, Delivered\", introduces, a,...  \n",
       "4807  [When, ambitious, New, York, attorney, Sam, is...  \n",
       "4808  [Ever, since, the, second, grade, when, he, fi...  \n",
       "\n",
       "[4806 rows x 3 columns]"
      ]
     },
     "execution_count": 33,
     "metadata": {},
     "output_type": "execute_result"
    }
   ],
   "source": [
    "new_df"
   ]
  },
  {
   "cell_type": "code",
   "execution_count": 34,
   "id": "a9db8c39",
   "metadata": {
    "execution": {
     "iopub.execute_input": "2023-05-13T12:14:14.325767Z",
     "iopub.status.busy": "2023-05-13T12:14:14.324993Z",
     "iopub.status.idle": "2023-05-13T12:14:14.344259Z",
     "shell.execute_reply": "2023-05-13T12:14:14.343051Z"
    },
    "papermill": {
     "duration": 0.037816,
     "end_time": "2023-05-13T12:14:14.346749",
     "exception": false,
     "start_time": "2023-05-13T12:14:14.308933",
     "status": "completed"
    },
    "tags": []
   },
   "outputs": [
    {
     "name": "stderr",
     "output_type": "stream",
     "text": [
      "/tmp/ipykernel_20/1722407942.py:1: SettingWithCopyWarning: \n",
      "A value is trying to be set on a copy of a slice from a DataFrame.\n",
      "Try using .loc[row_indexer,col_indexer] = value instead\n",
      "\n",
      "See the caveats in the documentation: https://pandas.pydata.org/pandas-docs/stable/user_guide/indexing.html#returning-a-view-versus-a-copy\n",
      "  new_df[\"tags\"] = new_df[\"tags\"].apply(lambda x:\" \".join(x)) #converting to string\n"
     ]
    }
   ],
   "source": [
    "new_df[\"tags\"] = new_df[\"tags\"].apply(lambda x:\" \".join(x)) #converting to string"
   ]
  },
  {
   "cell_type": "code",
   "execution_count": 35,
   "id": "bc56ef3d",
   "metadata": {
    "execution": {
     "iopub.execute_input": "2023-05-13T12:14:14.377498Z",
     "iopub.status.busy": "2023-05-13T12:14:14.376797Z",
     "iopub.status.idle": "2023-05-13T12:14:14.384899Z",
     "shell.execute_reply": "2023-05-13T12:14:14.383393Z"
    },
    "papermill": {
     "duration": 0.026292,
     "end_time": "2023-05-13T12:14:14.387097",
     "exception": false,
     "start_time": "2023-05-13T12:14:14.360805",
     "status": "completed"
    },
    "tags": []
   },
   "outputs": [
    {
     "data": {
      "text/plain": [
       "'In the 22nd century, a paraplegic Marine is dispatched to the moon Pandora on a unique mission, but becomes torn between following orders and protecting an alien civilization. SamWorthington ZoeSaldana SigourneyWeaver JamesCameron cultureclash future spacewar spacecolony society spacetravel futuristic romance space alien tribe alienplanet cgi marine soldier battle loveaffair antiwar powerrelations mindandsoul 3d Action Adventure Fantasy ScienceFiction'"
      ]
     },
     "execution_count": 35,
     "metadata": {},
     "output_type": "execute_result"
    }
   ],
   "source": [
    "new_df.iloc[0].tags"
   ]
  },
  {
   "cell_type": "code",
   "execution_count": 36,
   "id": "dd5160e7",
   "metadata": {
    "execution": {
     "iopub.execute_input": "2023-05-13T12:14:14.418643Z",
     "iopub.status.busy": "2023-05-13T12:14:14.417055Z",
     "iopub.status.idle": "2023-05-13T12:14:14.436261Z",
     "shell.execute_reply": "2023-05-13T12:14:14.435278Z"
    },
    "papermill": {
     "duration": 0.038665,
     "end_time": "2023-05-13T12:14:14.439975",
     "exception": false,
     "start_time": "2023-05-13T12:14:14.401310",
     "status": "completed"
    },
    "tags": []
   },
   "outputs": [
    {
     "name": "stderr",
     "output_type": "stream",
     "text": [
      "/tmp/ipykernel_20/3226612973.py:1: SettingWithCopyWarning: \n",
      "A value is trying to be set on a copy of a slice from a DataFrame.\n",
      "Try using .loc[row_indexer,col_indexer] = value instead\n",
      "\n",
      "See the caveats in the documentation: https://pandas.pydata.org/pandas-docs/stable/user_guide/indexing.html#returning-a-view-versus-a-copy\n",
      "  new_df[\"tags\"] = new_df[\"tags\"].apply(lambda x:x.lower()) #converting to lower cases\n"
     ]
    }
   ],
   "source": [
    "new_df[\"tags\"] = new_df[\"tags\"].apply(lambda x:x.lower()) #converting to lower cases"
   ]
  },
  {
   "cell_type": "markdown",
   "id": "40120938",
   "metadata": {
    "papermill": {
     "duration": 0.015915,
     "end_time": "2023-05-13T12:14:14.471819",
     "exception": false,
     "start_time": "2023-05-13T12:14:14.455904",
     "status": "completed"
    },
    "tags": []
   },
   "source": [
    "## Tokenizing, Stemming and Lemmatizing"
   ]
  },
  {
   "cell_type": "code",
   "execution_count": 37,
   "id": "9fe4fed0",
   "metadata": {
    "execution": {
     "iopub.execute_input": "2023-05-13T12:14:14.506112Z",
     "iopub.status.busy": "2023-05-13T12:14:14.505439Z",
     "iopub.status.idle": "2023-05-13T12:14:33.118869Z",
     "shell.execute_reply": "2023-05-13T12:14:33.116886Z"
    },
    "papermill": {
     "duration": 18.633452,
     "end_time": "2023-05-13T12:14:33.121611",
     "exception": false,
     "start_time": "2023-05-13T12:14:14.488159",
     "status": "completed"
    },
    "tags": []
   },
   "outputs": [
    {
     "name": "stderr",
     "output_type": "stream",
     "text": [
      "/opt/conda/lib/python3.10/site-packages/scipy/__init__.py:146: UserWarning: A NumPy version >=1.16.5 and <1.23.0 is required for this version of SciPy (detected version 1.23.5\n",
      "  warnings.warn(f\"A NumPy version >={np_minversion} and <{np_maxversion}\"\n"
     ]
    },
    {
     "name": "stdout",
     "output_type": "stream",
     "text": [
      "[nltk_data] Downloading package wordnet to /usr/share/nltk_data...\n",
      "[nltk_data]   Package wordnet is already up-to-date!\n",
      "Archive:  /usr/share/nltk_data/corpora/wordnet.zip\r\n",
      "   creating: /usr/share/nltk_data/corpora/wordnet/\r\n",
      "  inflating: /usr/share/nltk_data/corpora/wordnet/lexnames  \r\n",
      "  inflating: /usr/share/nltk_data/corpora/wordnet/data.verb  \r\n",
      "  inflating: /usr/share/nltk_data/corpora/wordnet/index.adv  \r\n",
      "  inflating: /usr/share/nltk_data/corpora/wordnet/adv.exc  \r\n",
      "  inflating: /usr/share/nltk_data/corpora/wordnet/index.verb  \r\n",
      "  inflating: /usr/share/nltk_data/corpora/wordnet/cntlist.rev  \r\n",
      "  inflating: /usr/share/nltk_data/corpora/wordnet/data.adj  \r\n",
      "  inflating: /usr/share/nltk_data/corpora/wordnet/index.adj  \r\n",
      "  inflating: /usr/share/nltk_data/corpora/wordnet/LICENSE  \r\n",
      "  inflating: /usr/share/nltk_data/corpora/wordnet/citation.bib  \r\n",
      "  inflating: /usr/share/nltk_data/corpora/wordnet/noun.exc  \r\n",
      "  inflating: /usr/share/nltk_data/corpora/wordnet/verb.exc  \r\n",
      "  inflating: /usr/share/nltk_data/corpora/wordnet/README  \r\n",
      "  inflating: /usr/share/nltk_data/corpora/wordnet/index.sense  \r\n",
      "  inflating: /usr/share/nltk_data/corpora/wordnet/data.noun  \r\n",
      "  inflating: /usr/share/nltk_data/corpora/wordnet/data.adv  \r\n",
      "  inflating: /usr/share/nltk_data/corpora/wordnet/index.noun  \r\n",
      "  inflating: /usr/share/nltk_data/corpora/wordnet/adj.exc  \r\n"
     ]
    },
    {
     "name": "stderr",
     "output_type": "stream",
     "text": [
      "/tmp/ipykernel_20/2341125723.py:16: SettingWithCopyWarning: \n",
      "A value is trying to be set on a copy of a slice from a DataFrame.\n",
      "Try using .loc[row_indexer,col_indexer] = value instead\n",
      "\n",
      "See the caveats in the documentation: https://pandas.pydata.org/pandas-docs/stable/user_guide/indexing.html#returning-a-view-versus-a-copy\n",
      "  new_df[\"tags\"] = new_df[\"tags\"].apply(transforms)\n"
     ]
    }
   ],
   "source": [
    "import nltk\n",
    "from nltk.stem import WordNetLemmatizer, PorterStemmer\n",
    "from nltk.tokenize import word_tokenize\n",
    "nltk.download(\"wordnet\")\n",
    "!unzip /usr/share/nltk_data/corpora/wordnet.zip -d /usr/share/nltk_data/corpora/\n",
    "ps =PorterStemmer()\n",
    "lemmatizer = WordNetLemmatizer()\n",
    "def transforms(sentence):\n",
    "    word_token = word_tokenize(sentence)\n",
    "#     print(word_token)\n",
    "    for i in range(len(word_token)):\n",
    "        word_token[i] = lemmatizer.lemmatize(ps.stem(word_token[i]))\n",
    "        \n",
    "    return \" \".join(word_token)\n",
    "        \n",
    "new_df[\"tags\"] = new_df[\"tags\"].apply(transforms)"
   ]
  },
  {
   "cell_type": "code",
   "execution_count": 38,
   "id": "d1f0823e",
   "metadata": {
    "execution": {
     "iopub.execute_input": "2023-05-13T12:14:33.157333Z",
     "iopub.status.busy": "2023-05-13T12:14:33.156667Z",
     "iopub.status.idle": "2023-05-13T12:14:33.166855Z",
     "shell.execute_reply": "2023-05-13T12:14:33.165548Z"
    },
    "papermill": {
     "duration": 0.031232,
     "end_time": "2023-05-13T12:14:33.169268",
     "exception": false,
     "start_time": "2023-05-13T12:14:33.138036",
     "status": "completed"
    },
    "tags": []
   },
   "outputs": [
    {
     "data": {
      "text/plain": [
       "'in the 22nd centuri , a parapleg marin is dispatch to the moon pandora on a uniqu mission , but becom torn between follow order and protect an alien civil . samworthington zoesaldana sigourneyweav jamescameron cultureclash futur spacewar spacecoloni societi spacetravel futurist romanc space alien tribe alienplanet cgi marin soldier battl loveaffair antiwar powerrel mindandsoul 3d action adventur fantasi sciencefict'"
      ]
     },
     "execution_count": 38,
     "metadata": {},
     "output_type": "execute_result"
    }
   ],
   "source": [
    "new_df.iloc[0].tags"
   ]
  },
  {
   "cell_type": "markdown",
   "id": "6d1f896d",
   "metadata": {
    "papermill": {
     "duration": 0.016197,
     "end_time": "2023-05-13T12:14:33.202138",
     "exception": false,
     "start_time": "2023-05-13T12:14:33.185941",
     "status": "completed"
    },
    "tags": []
   },
   "source": [
    "## Tfidf using sklearn"
   ]
  },
  {
   "cell_type": "code",
   "execution_count": 39,
   "id": "7bdc13a4",
   "metadata": {
    "execution": {
     "iopub.execute_input": "2023-05-13T12:14:33.238082Z",
     "iopub.status.busy": "2023-05-13T12:14:33.237420Z",
     "iopub.status.idle": "2023-05-13T12:14:33.244125Z",
     "shell.execute_reply": "2023-05-13T12:14:33.242769Z"
    },
    "papermill": {
     "duration": 0.027699,
     "end_time": "2023-05-13T12:14:33.246694",
     "exception": false,
     "start_time": "2023-05-13T12:14:33.218995",
     "status": "completed"
    },
    "tags": []
   },
   "outputs": [],
   "source": [
    "from sklearn.feature_extraction.text import TfidfVectorizer"
   ]
  },
  {
   "cell_type": "code",
   "execution_count": 40,
   "id": "70d1c4be",
   "metadata": {
    "execution": {
     "iopub.execute_input": "2023-05-13T12:14:33.280973Z",
     "iopub.status.busy": "2023-05-13T12:14:33.280324Z",
     "iopub.status.idle": "2023-05-13T12:14:34.061828Z",
     "shell.execute_reply": "2023-05-13T12:14:34.060275Z"
    },
    "papermill": {
     "duration": 0.802759,
     "end_time": "2023-05-13T12:14:34.065594",
     "exception": false,
     "start_time": "2023-05-13T12:14:33.262835",
     "status": "completed"
    },
    "tags": []
   },
   "outputs": [],
   "source": [
    "tfidfVectorizer = TfidfVectorizer(use_idf = True, stop_words = \"english\", max_features = 5000)\n",
    "tfidf = tfidfVectorizer.fit_transform(new_df[\"tags\"]).toarray()"
   ]
  },
  {
   "cell_type": "code",
   "execution_count": 41,
   "id": "58c9b555",
   "metadata": {
    "execution": {
     "iopub.execute_input": "2023-05-13T12:14:34.106990Z",
     "iopub.status.busy": "2023-05-13T12:14:34.106509Z",
     "iopub.status.idle": "2023-05-13T12:14:34.115461Z",
     "shell.execute_reply": "2023-05-13T12:14:34.113888Z"
    },
    "papermill": {
     "duration": 0.030343,
     "end_time": "2023-05-13T12:14:34.118329",
     "exception": false,
     "start_time": "2023-05-13T12:14:34.087986",
     "status": "completed"
    },
    "scrolled": true,
    "tags": []
   },
   "outputs": [
    {
     "data": {
      "text/plain": [
       "array([[0., 0., 0., ..., 0., 0., 0.],\n",
       "       [0., 0., 0., ..., 0., 0., 0.],\n",
       "       [0., 0., 0., ..., 0., 0., 0.],\n",
       "       ...,\n",
       "       [0., 0., 0., ..., 0., 0., 0.],\n",
       "       [0., 0., 0., ..., 0., 0., 0.],\n",
       "       [0., 0., 0., ..., 0., 0., 0.]])"
      ]
     },
     "execution_count": 41,
     "metadata": {},
     "output_type": "execute_result"
    }
   ],
   "source": [
    "tfidf"
   ]
  },
  {
   "cell_type": "code",
   "execution_count": 42,
   "id": "ea858b5e",
   "metadata": {
    "execution": {
     "iopub.execute_input": "2023-05-13T12:14:34.152549Z",
     "iopub.status.busy": "2023-05-13T12:14:34.152112Z",
     "iopub.status.idle": "2023-05-13T12:14:36.239242Z",
     "shell.execute_reply": "2023-05-13T12:14:36.237735Z"
    },
    "papermill": {
     "duration": 2.107585,
     "end_time": "2023-05-13T12:14:36.242154",
     "exception": false,
     "start_time": "2023-05-13T12:14:34.134569",
     "status": "completed"
    },
    "tags": []
   },
   "outputs": [],
   "source": [
    "from sklearn.metrics.pairwise import euclidean_distances\n",
    "similarity = euclidean_distances(tfidf) # distance of each movie from each other movie\n",
    "#for eg the ith index has distance of ith movie from every other movie\n"
   ]
  },
  {
   "cell_type": "code",
   "execution_count": 43,
   "id": "bb9c6e6e",
   "metadata": {
    "execution": {
     "iopub.execute_input": "2023-05-13T12:14:36.276029Z",
     "iopub.status.busy": "2023-05-13T12:14:36.275584Z",
     "iopub.status.idle": "2023-05-13T12:14:36.284289Z",
     "shell.execute_reply": "2023-05-13T12:14:36.282843Z"
    },
    "papermill": {
     "duration": 0.028865,
     "end_time": "2023-05-13T12:14:36.286896",
     "exception": false,
     "start_time": "2023-05-13T12:14:36.258031",
     "status": "completed"
    },
    "tags": []
   },
   "outputs": [
    {
     "data": {
      "text/plain": [
       "array([0.        , 1.39862625, 1.392525  , ..., 1.38288668, 1.41053322,\n",
       "       1.41421356])"
      ]
     },
     "execution_count": 43,
     "metadata": {},
     "output_type": "execute_result"
    }
   ],
   "source": [
    "similarity[0]"
   ]
  },
  {
   "cell_type": "code",
   "execution_count": 44,
   "id": "cb32efbf",
   "metadata": {
    "execution": {
     "iopub.execute_input": "2023-05-13T12:14:36.321795Z",
     "iopub.status.busy": "2023-05-13T12:14:36.321309Z",
     "iopub.status.idle": "2023-05-13T12:14:51.106502Z",
     "shell.execute_reply": "2023-05-13T12:14:51.104644Z"
    },
    "papermill": {
     "duration": 14.805583,
     "end_time": "2023-05-13T12:14:51.109068",
     "exception": false,
     "start_time": "2023-05-13T12:14:36.303485",
     "status": "completed"
    },
    "tags": []
   },
   "outputs": [
    {
     "name": "stdout",
     "output_type": "stream",
     "text": [
      "4806 5\n"
     ]
    }
   ],
   "source": [
    "# only taking 5 similar movies\n",
    "similar5 = [] # Based on euclidian distance\n",
    "for i in similarity:\n",
    "    similar5.append(sorted(list(enumerate(i)), key = lambda x:x[1])[1:6]) # only appending 5 similar movies\n",
    "    \n",
    "print(len(similar5), len(similar5[0]))\n",
    "        "
   ]
  },
  {
   "cell_type": "code",
   "execution_count": 45,
   "id": "8a9e706c",
   "metadata": {
    "execution": {
     "iopub.execute_input": "2023-05-13T12:14:51.143776Z",
     "iopub.status.busy": "2023-05-13T12:14:51.142258Z",
     "iopub.status.idle": "2023-05-13T12:14:51.151266Z",
     "shell.execute_reply": "2023-05-13T12:14:51.149644Z"
    },
    "papermill": {
     "duration": 0.028935,
     "end_time": "2023-05-13T12:14:51.153906",
     "exception": false,
     "start_time": "2023-05-13T12:14:51.124971",
     "status": "completed"
    },
    "tags": []
   },
   "outputs": [
    {
     "name": "stdout",
     "output_type": "stream",
     "text": [
      "The Golden Compass\n",
      "Coffee Town\n",
      "A Shine of Rainbows\n",
      "The Jungle Book 2\n",
      "The BFG\n",
      "Bogus\n"
     ]
    }
   ],
   "source": [
    "print(new_df.iloc[23].title)\n",
    "for i, d in similar5[23]:\n",
    "    print(new_df.iloc[i].title)"
   ]
  },
  {
   "cell_type": "code",
   "execution_count": 46,
   "id": "401f03d7",
   "metadata": {
    "execution": {
     "iopub.execute_input": "2023-05-13T12:14:51.187609Z",
     "iopub.status.busy": "2023-05-13T12:14:51.187035Z",
     "iopub.status.idle": "2023-05-13T12:14:53.308657Z",
     "shell.execute_reply": "2023-05-13T12:14:53.307184Z"
    },
    "papermill": {
     "duration": 2.142009,
     "end_time": "2023-05-13T12:14:53.311583",
     "exception": false,
     "start_time": "2023-05-13T12:14:51.169574",
     "status": "completed"
    },
    "tags": []
   },
   "outputs": [],
   "source": [
    "from sklearn.metrics.pairwise import cosine_similarity\n",
    "similarity = cosine_similarity(tfidf)"
   ]
  },
  {
   "cell_type": "code",
   "execution_count": 47,
   "id": "858c3277",
   "metadata": {
    "execution": {
     "iopub.execute_input": "2023-05-13T12:14:53.346678Z",
     "iopub.status.busy": "2023-05-13T12:14:53.345750Z",
     "iopub.status.idle": "2023-05-13T12:15:08.231598Z",
     "shell.execute_reply": "2023-05-13T12:15:08.230364Z"
    },
    "papermill": {
     "duration": 14.906451,
     "end_time": "2023-05-13T12:15:08.234213",
     "exception": false,
     "start_time": "2023-05-13T12:14:53.327762",
     "status": "completed"
    },
    "tags": []
   },
   "outputs": [
    {
     "name": "stdout",
     "output_type": "stream",
     "text": [
      "4806 5\n"
     ]
    }
   ],
   "source": [
    "similar_cosine = [] # Based on cosine similarity\n",
    "for i in similarity:\n",
    "    similar_cosine.append(sorted(list(enumerate(i)),reverse = True, key = lambda x:x[1])[1:6])\n",
    "    \n",
    "print(len(similar_cosine), len(similar_cosine[0]))\n",
    "        "
   ]
  },
  {
   "cell_type": "code",
   "execution_count": 48,
   "id": "5bad58c2",
   "metadata": {
    "execution": {
     "iopub.execute_input": "2023-05-13T12:15:08.270142Z",
     "iopub.status.busy": "2023-05-13T12:15:08.269735Z",
     "iopub.status.idle": "2023-05-13T12:15:08.278247Z",
     "shell.execute_reply": "2023-05-13T12:15:08.276697Z"
    },
    "papermill": {
     "duration": 0.029711,
     "end_time": "2023-05-13T12:15:08.280965",
     "exception": false,
     "start_time": "2023-05-13T12:15:08.251254",
     "status": "completed"
    },
    "tags": []
   },
   "outputs": [
    {
     "name": "stdout",
     "output_type": "stream",
     "text": [
      "The Golden Compass\n",
      "Coffee Town\n",
      "A Shine of Rainbows\n",
      "The Jungle Book 2\n",
      "The BFG\n",
      "Bogus\n"
     ]
    }
   ],
   "source": [
    "print(new_df.iloc[23].title)\n",
    "for i, d in similar_cosine[23]:\n",
    "    print(new_df.iloc[i].title)"
   ]
  },
  {
   "cell_type": "markdown",
   "id": "c90156eb",
   "metadata": {
    "papermill": {
     "duration": 0.016757,
     "end_time": "2023-05-13T12:15:08.315013",
     "exception": false,
     "start_time": "2023-05-13T12:15:08.298256",
     "status": "completed"
    },
    "tags": []
   },
   "source": [
    "## Movie Recommendation"
   ]
  },
  {
   "cell_type": "code",
   "execution_count": 49,
   "id": "8d575161",
   "metadata": {
    "execution": {
     "iopub.execute_input": "2023-05-13T12:15:08.353429Z",
     "iopub.status.busy": "2023-05-13T12:15:08.352926Z",
     "iopub.status.idle": "2023-05-13T12:15:08.366491Z",
     "shell.execute_reply": "2023-05-13T12:15:08.364956Z"
    },
    "papermill": {
     "duration": 0.036576,
     "end_time": "2023-05-13T12:15:08.369521",
     "exception": false,
     "start_time": "2023-05-13T12:15:08.332945",
     "status": "completed"
    },
    "tags": []
   },
   "outputs": [
    {
     "name": "stdout",
     "output_type": "stream",
     "text": [
      "Movies similar to  Avatar are: \n",
      "\n",
      "Aliens\n",
      "Falcon Rising\n",
      "Battle: Los Angeles\n",
      "Apollo 18\n",
      "Star Trek Into Darkness\n"
     ]
    }
   ],
   "source": [
    "def recommend(movie):\n",
    "    try:\n",
    "        movie_index = new_df[new_df[\"title\"]==movie].index[0]\n",
    "        print(\"Movies similar to \",new_df.iloc[movie_index].title, \"are: \")\n",
    "        print()\n",
    "        for i, d in similar5[movie_index]:\n",
    "            print(new_df.iloc[i].title)\n",
    "\n",
    "    except:\n",
    "        print(\"Movie not in database\")\n",
    "recommend(\"Avatar\")"
   ]
  }
 ],
 "metadata": {
  "kernelspec": {
   "display_name": "Python 3",
   "language": "python",
   "name": "python3"
  },
  "language_info": {
   "codemirror_mode": {
    "name": "ipython",
    "version": 3
   },
   "file_extension": ".py",
   "mimetype": "text/x-python",
   "name": "python",
   "nbconvert_exporter": "python",
   "pygments_lexer": "ipython3",
   "version": "3.10.10"
  },
  "papermill": {
   "default_parameters": {},
   "duration": 81.916669,
   "end_time": "2023-05-13T12:15:11.110125",
   "environment_variables": {},
   "exception": null,
   "input_path": "__notebook__.ipynb",
   "output_path": "__notebook__.ipynb",
   "parameters": {},
   "start_time": "2023-05-13T12:13:49.193456",
   "version": "2.4.0"
  }
 },
 "nbformat": 4,
 "nbformat_minor": 5
}
